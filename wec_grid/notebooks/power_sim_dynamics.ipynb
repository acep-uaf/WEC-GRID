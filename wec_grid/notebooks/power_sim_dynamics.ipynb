{
 "cells": [
  {
   "cell_type": "code",
   "execution_count": 5,
   "metadata": {},
   "outputs": [
    {
     "name": "stderr",
     "output_type": "stream",
     "text": [
      "WARNING: using PowerModels.parse_file in module Main conflicts with an existing identifier.\n"
     ]
    }
   ],
   "source": [
    "using Pkg\n",
    "using PowerSimulationsDynamics\n",
    "using PowerSystems\n",
    "using PowerModels\n",
    "using Ipopt"
   ]
  },
  {
   "cell_type": "code",
   "execution_count": 2,
   "metadata": {},
   "outputs": [
    {
     "name": "stderr",
     "output_type": "stream",
     "text": [
      "┌ Info: The PSS(R)E parser currently supports buses, loads, shunts, generators, branches, transformers, and dc lines\n",
      "└ @ PowerSystems C:\\Users\\alexb\\.julia\\packages\\PowerSystems\\JjjYG\\src\\parsers\\pm_io\\common.jl:25\n",
      "┌ Info: The PSS(R)E parser currently supports buses, loads, shunts, generators, branches, transformers, and dc lines\n",
      "└ @ PowerSystems C:\\Users\\alexb\\.julia\\packages\\PowerSystems\\JjjYG\\src\\parsers\\pm_io\\psse.jl:1063\n",
      "┌ Info: Version 32 of PTI format is unsupported, parser may not function correctly.\n",
      "└ @ PowerSystems C:\\Users\\alexb\\.julia\\packages\\PowerSystems\\JjjYG\\src\\parsers\\pm_io\\pti.jl:1352\n",
      "┌ Info: The following fields in BUS are missing: NVHI, NVLO, EVHI, EVLO\n",
      "└ @ PowerSystems C:\\Users\\alexb\\.julia\\packages\\PowerSystems\\JjjYG\\src\\parsers\\pm_io\\pti.jl:1227\n"
     ]
    },
    {
     "name": "stderr",
     "output_type": "stream",
     "text": [
      "┌ Info: The following fields in BUS are missing: NVHI, NVLO, EVHI, EVLO\n",
      "└ @ PowerSystems C:\\Users\\alexb\\.julia\\packages\\PowerSystems\\JjjYG\\src\\parsers\\pm_io\\pti.jl:1227\n",
      "┌ Info: The following fields in BUS are missing: NVHI, NVLO, EVHI, EVLO\n",
      "└ @ PowerSystems C:\\Users\\alexb\\.julia\\packages\\PowerSystems\\JjjYG\\src\\parsers\\pm_io\\pti.jl:1227\n",
      "┌ Info: The following fields in BUS are missing: NVHI, NVLO, EVHI, EVLO\n",
      "└ @ PowerSystems C:\\Users\\alexb\\.julia\\packages\\PowerSystems\\JjjYG\\src\\parsers\\pm_io\\pti.jl:1227\n",
      "┌ Info: The following fields in BUS are missing: NVHI, NVLO, EVHI, EVLO\n",
      "└ @ PowerSystems C:\\Users\\alexb\\.julia\\packages\\PowerSystems\\JjjYG\\src\\parsers\\pm_io\\pti.jl:1227\n",
      "┌ Info: The following fields in BUS are missing: NVHI, NVLO, EVHI, EVLO\n",
      "└ @ PowerSystems C:\\Users\\alexb\\.julia\\packages\\PowerSystems\\JjjYG\\src\\parsers\\pm_io\\pti.jl:1227\n",
      "┌ Info: The following fields in BUS are missing: NVHI, NVLO, EVHI, EVLO\n",
      "└ @ PowerSystems C:\\Users\\alexb\\.julia\\packages\\PowerSystems\\JjjYG\\src\\parsers\\pm_io\\pti.jl:1227\n",
      "┌ Info: The following fields in BUS are missing: NVHI, NVLO, EVHI, EVLO\n",
      "└ @ PowerSystems C:\\Users\\alexb\\.julia\\packages\\PowerSystems\\JjjYG\\src\\parsers\\pm_io\\pti.jl:1227\n"
     ]
    },
    {
     "name": "stderr",
     "output_type": "stream",
     "text": [
      "┌ Info: The following fields in BUS are missing: NVHI, NVLO, EVHI, EVLO\n",
      "└ @ PowerSystems C:\\Users\\alexb\\.julia\\packages\\PowerSystems\\JjjYG\\src\\parsers\\pm_io\\pti.jl:1227\n",
      "┌ Info: The following fields in BUS are missing: NVHI, NVLO, EVHI, EVLO\n",
      "└ @ PowerSystems C:\\Users\\alexb\\.julia\\packages\\PowerSystems\\JjjYG\\src\\parsers\\pm_io\\pti.jl:1227\n",
      "┌ Info: The following fields in BUS are missing: NVHI, NVLO, EVHI, EVLO\n",
      "└ @ PowerSystems C:\\Users\\alexb\\.julia\\packages\\PowerSystems\\JjjYG\\src\\parsers\\pm_io\\pti.jl:1227\n",
      "┌ Info: The following fields in BUS are missing: NVHI, NVLO, EVHI, EVLO\n",
      "└ @ PowerSystems C:\\Users\\alexb\\.julia\\packages\\PowerSystems\\JjjYG\\src\\parsers\\pm_io\\pti.jl:1227\n",
      "┌ Info: The following fields in BUS are missing: NVHI, NVLO, EVHI, EVLO\n",
      "└ @ PowerSystems C:\\Users\\alexb\\.julia\\packages\\PowerSystems\\JjjYG\\src\\parsers\\pm_io\\pti.jl:1227\n",
      "┌ Info: The following fields in BUS are missing: NVHI, NVLO, EVHI, EVLO\n",
      "└ @ PowerSystems C:\\Users\\alexb\\.julia\\packages\\PowerSystems\\JjjYG\\src\\parsers\\pm_io\\pti.jl:1227\n",
      "┌ Info: The following fields in LOAD are missing: INTRPT\n",
      "└ @ PowerSystems C:\\Users\\alexb\\.julia\\packages\\PowerSystems\\JjjYG\\src\\parsers\\pm_io\\pti.jl:1227\n",
      "┌ Info: The following fields in LOAD are missing: INTRPT\n",
      "└ @ PowerSystems C:\\Users\\alexb\\.julia\\packages\\PowerSystems\\JjjYG\\src\\parsers\\pm_io\\pti.jl:1227\n",
      "┌ Info: The following fields in LOAD are missing: INTRPT\n",
      "└ @ PowerSystems C:\\Users\\alexb\\.julia\\packages\\PowerSystems\\JjjYG\\src\\parsers\\pm_io\\pti.jl:1227\n",
      "┌ Info: The following fields in LOAD are missing: INTRPT\n",
      "└ @ PowerSystems C:\\Users\\alexb\\.julia\\packages\\PowerSystems\\JjjYG\\src\\parsers\\pm_io\\pti.jl:1227\n",
      "┌ Info: The following fields in LOAD are missing: INTRPT\n",
      "└ @ PowerSystems C:\\Users\\alexb\\.julia\\packages\\PowerSystems\\JjjYG\\src\\parsers\\pm_io\\pti.jl:1227\n",
      "┌ Info: The following fields in LOAD are missing: INTRPT\n",
      "└ @ PowerSystems C:\\Users\\alexb\\.julia\\packages\\PowerSystems\\JjjYG\\src\\parsers\\pm_io\\pti.jl:1227\n",
      "┌ Info: The following fields in LOAD are missing: INTRPT\n",
      "└ @ PowerSystems C:\\Users\\alexb\\.julia\\packages\\PowerSystems\\JjjYG\\src\\parsers\\pm_io\\pti.jl:1227\n",
      "┌ Info: The following fields in LOAD are missing: INTRPT\n",
      "└ @ PowerSystems C:\\Users\\alexb\\.julia\\packages\\PowerSystems\\JjjYG\\src\\parsers\\pm_io\\pti.jl:1227\n",
      "┌ Info: The following fields in LOAD are missing: INTRPT\n",
      "└ @ PowerSystems C:\\Users\\alexb\\.julia\\packages\\PowerSystems\\JjjYG\\src\\parsers\\pm_io\\pti.jl:1227\n",
      "┌ Info: The following fields in LOAD are missing: INTRPT\n",
      "└ @ PowerSystems C:\\Users\\alexb\\.julia\\packages\\PowerSystems\\JjjYG\\src\\parsers\\pm_io\\pti.jl:1227\n",
      "┌ Info: The following fields in LOAD are missing: INTRPT\n",
      "└ @ PowerSystems C:\\Users\\alexb\\.julia\\packages\\PowerSystems\\JjjYG\\src\\parsers\\pm_io\\pti.jl:1227\n",
      "┌ Info: The following fields in GENERATOR are missing: O2, F2, O3, F3, O4, F4, WMOD, WPF\n",
      "└ @ PowerSystems C:\\Users\\alexb\\.julia\\packages\\PowerSystems\\JjjYG\\src\\parsers\\pm_io\\pti.jl:1227\n",
      "┌ Info: The following fields in GENERATOR are missing: O2, F2, O3, F3, O4, F4, WMOD, WPF\n",
      "└ @ PowerSystems C:\\Users\\alexb\\.julia\\packages\\PowerSystems\\JjjYG\\src\\parsers\\pm_io\\pti.jl:1227\n",
      "┌ Info: The following fields in GENERATOR are missing: O2, F2, O3, F3, O4, F4, WMOD, WPF\n",
      "└ @ PowerSystems C:\\Users\\alexb\\.julia\\packages\\PowerSystems\\JjjYG\\src\\parsers\\pm_io\\pti.jl:1227\n",
      "┌ Info: The following fields in GENERATOR are missing: O2, F2, O3, F3, O4, F4, WMOD, WPF\n",
      "└ @ PowerSystems C:\\Users\\alexb\\.julia\\packages\\PowerSystems\\JjjYG\\src\\parsers\\pm_io\\pti.jl:1227\n",
      "┌ Info: The following fields in GENERATOR are missing: O2, F2, O3, F3, O4, F4, WMOD, WPF\n",
      "└ @ PowerSystems C:\\Users\\alexb\\.julia\\packages\\PowerSystems\\JjjYG\\src\\parsers\\pm_io\\pti.jl:1227\n",
      "┌ Info: The following fields in BRANCH are missing: O2, F2, O3, F3, O4, F4\n",
      "└ @ PowerSystems C:\\Users\\alexb\\.julia\\packages\\PowerSystems\\JjjYG\\src\\parsers\\pm_io\\pti.jl:1227\n",
      "┌ Info: The following fields in BRANCH are missing: O2, F2, O3, F3, O4, F4\n",
      "└ @ PowerSystems C:\\Users\\alexb\\.julia\\packages\\PowerSystems\\JjjYG\\src\\parsers\\pm_io\\pti.jl:1227\n",
      "┌ Info: The following fields in BRANCH are missing: O2, F2, O3, F3, O4, F4\n",
      "└ @ PowerSystems C:\\Users\\alexb\\.julia\\packages\\PowerSystems\\JjjYG\\src\\parsers\\pm_io\\pti.jl:1227\n",
      "┌ Info: The following fields in BRANCH are missing: O2, F2, O3, F3, O4, F4\n",
      "└ @ PowerSystems C:\\Users\\alexb\\.julia\\packages\\PowerSystems\\JjjYG\\src\\parsers\\pm_io\\pti.jl:1227\n",
      "┌ Info: The following fields in BRANCH are missing: O2, F2, O3, F3, O4, F4\n",
      "└ @ PowerSystems C:\\Users\\alexb\\.julia\\packages\\PowerSystems\\JjjYG\\src\\parsers\\pm_io\\pti.jl:1227\n",
      "┌ Info: The following fields in BRANCH are missing: O2, F2, O3, F3, O4, F4\n",
      "└ @ PowerSystems C:\\Users\\alexb\\.julia\\packages\\PowerSystems\\JjjYG\\src\\parsers\\pm_io\\pti.jl:1227\n",
      "┌ Info: The following fields in BRANCH are missing: O2, F2, O3, F3, O4, F4\n",
      "└ @ PowerSystems C:\\Users\\alexb\\.julia\\packages\\PowerSystems\\JjjYG\\src\\parsers\\pm_io\\pti.jl:1227\n",
      "┌ Info: The following fields in BRANCH are missing: O2, F2, O3, F3, O4, F4\n",
      "└ @ PowerSystems C:\\Users\\alexb\\.julia\\packages\\PowerSystems\\JjjYG\\src\\parsers\\pm_io\\pti.jl:1227\n",
      "┌ Info: The following fields in BRANCH are missing: O2, F2, O3, F3, O4, F4\n",
      "└ @ PowerSystems C:\\Users\\alexb\\.julia\\packages\\PowerSystems\\JjjYG\\src\\parsers\\pm_io\\pti.jl:1227\n",
      "┌ Info: The following fields in BRANCH are missing: O2, F2, O3, F3, O4, F4\n",
      "└ @ PowerSystems C:\\Users\\alexb\\.julia\\packages\\PowerSystems\\JjjYG\\src\\parsers\\pm_io\\pti.jl:1227\n",
      "┌ Info: The following fields in BRANCH are missing: O2, F2, O3, F3, O4, F4\n",
      "└ @ PowerSystems C:\\Users\\alexb\\.julia\\packages\\PowerSystems\\JjjYG\\src\\parsers\\pm_io\\pti.jl:1227\n",
      "┌ Info: The following fields in BRANCH are missing: O2, F2, O3, F3, O4, F4\n",
      "└ @ PowerSystems C:\\Users\\alexb\\.julia\\packages\\PowerSystems\\JjjYG\\src\\parsers\\pm_io\\pti.jl:1227\n",
      "┌ Info: The following fields in BRANCH are missing: O2, F2, O3, F3, O4, F4\n",
      "└ @ PowerSystems C:\\Users\\alexb\\.julia\\packages\\PowerSystems\\JjjYG\\src\\parsers\\pm_io\\pti.jl:1227\n",
      "┌ Info: The following fields in BRANCH are missing: O2, F2, O3, F3, O4, F4\n",
      "└ @ PowerSystems C:\\Users\\alexb\\.julia\\packages\\PowerSystems\\JjjYG\\src\\parsers\\pm_io\\pti.jl:1227\n",
      "┌ Info: The following fields in BRANCH are missing: O2, F2, O3, F3, O4, F4\n",
      "└ @ PowerSystems C:\\Users\\alexb\\.julia\\packages\\PowerSystems\\JjjYG\\src\\parsers\\pm_io\\pti.jl:1227\n",
      "┌ Info: The following fields in BRANCH are missing: O2, F2, O3, F3, O4, F4\n",
      "└ @ PowerSystems C:\\Users\\alexb\\.julia\\packages\\PowerSystems\\JjjYG\\src\\parsers\\pm_io\\pti.jl:1227\n",
      "┌ Info: The following fields in TRANSFORMER are missing: O2, F2, O3, F3, O4, F4, VECGRP\n",
      "└ @ PowerSystems C:\\Users\\alexb\\.julia\\packages\\PowerSystems\\JjjYG\\src\\parsers\\pm_io\\pti.jl:1227\n",
      "┌ Info: The following fields in TRANSFORMER are missing: O2, F2, O3, F3, O4, F4, VECGRP\n",
      "└ @ PowerSystems C:\\Users\\alexb\\.julia\\packages\\PowerSystems\\JjjYG\\src\\parsers\\pm_io\\pti.jl:1227\n",
      "┌ Info: The following fields in TRANSFORMER are missing: O2, F2, O3, F3, O4, F4, VECGRP\n",
      "└ @ PowerSystems C:\\Users\\alexb\\.julia\\packages\\PowerSystems\\JjjYG\\src\\parsers\\pm_io\\pti.jl:1227\n"
     ]
    },
    {
     "name": "stderr",
     "output_type": "stream",
     "text": [
      "┌ Info: The following fields in TRANSFORMER are missing: O2, F2, O3, F3, O4, F4, VECGRP\n",
      "└ @ PowerSystems C:\\Users\\alexb\\.julia\\packages\\PowerSystems\\JjjYG\\src\\parsers\\pm_io\\pti.jl:1227\n",
      "┌ Info: Switched shunt converted to fixed shunt, with default value gs=0.0\n",
      "└ @ PowerSystems C:\\Users\\alexb\\.julia\\packages\\PowerSystems\\JjjYG\\src\\parsers\\pm_io\\psse.jl:374\n"
     ]
    },
    {
     "name": "stderr",
     "output_type": "stream",
     "text": [
      "┌ Info: angmin and angmax values are 0, widening these values on branch 4 to +/- 60.0 deg.\n",
      "└ @ PowerSystems C:\\Users\\alexb\\.julia\\packages\\PowerSystems\\JjjYG\\src\\parsers\\pm_io\\data.jl:1077\n",
      "┌ Info: angmin and angmax values are 0, widening these values on branch 1 to +/- 60.0 deg.\n",
      "└ @ PowerSystems C:\\Users\\alexb\\.julia\\packages\\PowerSystems\\JjjYG\\src\\parsers\\pm_io\\data.jl:1077\n",
      "┌ Info: angmin and angmax values are 0, widening these values on branch 12 to +/- 60.0 deg.\n",
      "└ @ PowerSystems C:\\Users\\alexb\\.julia\\packages\\PowerSystems\\JjjYG\\src\\parsers\\pm_io\\data.jl:1077\n",
      "┌ Info: angmin and angmax values are 0, widening these values on branch 20 to +/- 60.0 deg.\n",
      "└ @ PowerSystems C:\\Users\\alexb\\.julia\\packages\\PowerSystems\\JjjYG\\src\\parsers\\pm_io\\data.jl:1077\n",
      "┌ Info: angmin and angmax values are 0, widening these values on branch 2 to +/- 60.0 deg.\n",
      "└ @ PowerSystems C:\\Users\\alexb\\.julia\\packages\\PowerSystems\\JjjYG\\src\\parsers\\pm_io\\data.jl:1077\n",
      "┌ Info: angmin and angmax values are 0, widening these values on branch 6 to +/- 60.0 deg.\n",
      "└ @ PowerSystems C:\\Users\\alexb\\.julia\\packages\\PowerSystems\\JjjYG\\src\\parsers\\pm_io\\data.jl:1077\n",
      "┌ Info: angmin and angmax values are 0, widening these values on branch 11 to +/- 60.0 deg.\n",
      "└ @ PowerSystems C:\\Users\\alexb\\.julia\\packages\\PowerSystems\\JjjYG\\src\\parsers\\pm_io\\data.jl:1077\n",
      "┌ Info: angmin and angmax values are 0, widening these values on branch 13 to +/- 60.0 deg.\n",
      "└ @ PowerSystems C:\\Users\\alexb\\.julia\\packages\\PowerSystems\\JjjYG\\src\\parsers\\pm_io\\data.jl:1077\n",
      "┌ Info: angmin and angmax values are 0, widening these values on branch 5 to +/- 60.0 deg.\n",
      "└ @ PowerSystems C:\\Users\\alexb\\.julia\\packages\\PowerSystems\\JjjYG\\src\\parsers\\pm_io\\data.jl:1077\n",
      "┌ Info: angmin and angmax values are 0, widening these values on branch 15 to +/- 60.0 deg.\n",
      "└ @ PowerSystems C:\\Users\\alexb\\.julia\\packages\\PowerSystems\\JjjYG\\src\\parsers\\pm_io\\data.jl:1077\n",
      "┌ Info: angmin and angmax values are 0, widening these values on branch 16 to +/- 60.0 deg.\n",
      "└ @ PowerSystems C:\\Users\\alexb\\.julia\\packages\\PowerSystems\\JjjYG\\src\\parsers\\pm_io\\data.jl:1077\n",
      "┌ Info: angmin and angmax values are 0, widening these values on branch 14 to +/- 60.0 deg.\n",
      "└ @ PowerSystems C:\\Users\\alexb\\.julia\\packages\\PowerSystems\\JjjYG\\src\\parsers\\pm_io\\data.jl:1077\n",
      "┌ Info: angmin and angmax values are 0, widening these values on branch 7 to +/- 60.0 deg.\n",
      "└ @ PowerSystems C:\\Users\\alexb\\.julia\\packages\\PowerSystems\\JjjYG\\src\\parsers\\pm_io\\data.jl:1077\n",
      "┌ Info: angmin and angmax values are 0, widening these values on branch 8 to +/- 60.0 deg.\n",
      "└ @ PowerSystems C:\\Users\\alexb\\.julia\\packages\\PowerSystems\\JjjYG\\src\\parsers\\pm_io\\data.jl:1077\n",
      "┌ Info: angmin and angmax values are 0, widening these values on branch 17 to +/- 60.0 deg.\n",
      "└ @ PowerSystems C:\\Users\\alexb\\.julia\\packages\\PowerSystems\\JjjYG\\src\\parsers\\pm_io\\data.jl:1077\n",
      "┌ Info: angmin and angmax values are 0, widening these values on branch 10 to +/- 60.0 deg.\n",
      "└ @ PowerSystems C:\\Users\\alexb\\.julia\\packages\\PowerSystems\\JjjYG\\src\\parsers\\pm_io\\data.jl:1077\n",
      "┌ Info: angmin and angmax values are 0, widening these values on branch 19 to +/- 60.0 deg.\n",
      "└ @ PowerSystems C:\\Users\\alexb\\.julia\\packages\\PowerSystems\\JjjYG\\src\\parsers\\pm_io\\data.jl:1077\n",
      "┌ Info: angmin and angmax values are 0, widening these values on branch 9 to +/- 60.0 deg.\n",
      "└ @ PowerSystems C:\\Users\\alexb\\.julia\\packages\\PowerSystems\\JjjYG\\src\\parsers\\pm_io\\data.jl:1077\n",
      "┌ Info: angmin and angmax values are 0, widening these values on branch 18 to +/- 60.0 deg.\n",
      "└ @ PowerSystems C:\\Users\\alexb\\.julia\\packages\\PowerSystems\\JjjYG\\src\\parsers\\pm_io\\data.jl:1077\n"
     ]
    },
    {
     "name": "stderr",
     "output_type": "stream",
     "text": [
      "┌ Info: angmin and angmax values are 0, widening these values on branch 3 to +/- 60.0 deg.\n",
      "└ @ PowerSystems C:\\Users\\alexb\\.julia\\packages\\PowerSystems\\JjjYG\\src\\parsers\\pm_io\\data.jl:1077\n",
      "┌ Info: the voltage setpoint on generator 4 does not match the value at bus 6\n",
      "└ @ PowerSystems C:\\Users\\alexb\\.julia\\packages\\PowerSystems\\JjjYG\\src\\parsers\\pm_io\\data.jl:1796\n",
      "┌ Info: the voltage setpoint on generator 5 does not match the value at bus 8\n",
      "└ @ PowerSystems C:\\Users\\alexb\\.julia\\packages\\PowerSystems\\JjjYG\\src\\parsers\\pm_io\\data.jl:1796\n",
      "┌ Info: the voltage setpoint on generator 2 does not match the value at bus 2\n",
      "└ @ PowerSystems C:\\Users\\alexb\\.julia\\packages\\PowerSystems\\JjjYG\\src\\parsers\\pm_io\\data.jl:1796\n",
      "┌ Info: the voltage setpoint on generator 3 does not match the value at bus 3\n",
      "└ @ PowerSystems C:\\Users\\alexb\\.julia\\packages\\PowerSystems\\JjjYG\\src\\parsers\\pm_io\\data.jl:1796\n"
     ]
    },
    {
     "data": {
      "text/plain": [
       "Dict{String, Any} with 13 entries:\n",
       "  \"bus\"            => Dict{String, Any}(\"4\"=>Dict{String, Any}(\"zone\"=>1, \"bus_…\n",
       "  \"source_type\"    => \"pti\"\n",
       "  \"name\"           => \"this_ieee14\"\n",
       "  \"dcline\"         => Dict{String, Any}()\n",
       "  \"source_version\" => \"32\"\n",
       "  \"gen\"            => Dict{String, Any}(\"4\"=>Dict{String, Any}(\"pg\"=>0.3, \"mode…\n",
       "  \"branch\"         => Dict{String, Any}(\"4\"=>Dict{String, Any}(\"br_r\"=>0.05811,…\n",
       "  \"storage\"        => Dict{String, Any}()\n",
       "  \"switch\"         => Dict{String, Any}()\n",
       "  \"baseMVA\"        => 100.0\n",
       "  \"per_unit\"       => true\n",
       "  \"shunt\"          => Dict{String, Any}(\"1\"=>Dict{String, Any}(\"source_id\"=>Any…\n",
       "  \"load\"           => Dict{String, Any}(\"4\"=>Dict{String, Any}(\"source_id\"=>Any…"
      ]
     },
     "metadata": {},
     "output_type": "display_data"
    }
   ],
   "source": [
    "network_raw_data = parse_file( \"../models/grid_models/this_ieee14.raw\")"
   ]
  },
  {
   "cell_type": "code",
   "execution_count": 3,
   "metadata": {},
   "outputs": [
    {
     "ename": "UndefVarError",
     "evalue": "UndefVarError: `instantiate_model` not defined",
     "output_type": "error",
     "traceback": [
      "UndefVarError: `instantiate_model` not defined\n",
      "\n",
      "Stacktrace:\n",
      " [1] top-level scope\n",
      "   @ c:\\Users\\alexb\\research\\WEC-GRID\\WEC_GRID\\notebooks\\power_sim_dynamics.ipynb:1"
     ]
    }
   ],
   "source": [
    "raw_model = instantiate_model(network_raw_data, IVRPowerModel, build_pf_iv)"
   ]
  },
  {
   "cell_type": "code",
   "execution_count": 4,
   "metadata": {},
   "outputs": [
    {
     "ename": "UndefVarError",
     "evalue": "UndefVarError: `optimize_model!` not defined",
     "output_type": "error",
     "traceback": [
      "UndefVarError: `optimize_model!` not defined\n",
      "\n",
      "Stacktrace:\n",
      " [1] top-level scope\n",
      "   @ c:\\Users\\alexb\\research\\WEC-GRID\\WEC_GRID\\notebooks\\power_sim_dynamics.ipynb:1"
     ]
    }
   ],
   "source": [
    "pf = optimize_model!(raw_model, optimizer=Ipopt.Optimizer)"
   ]
  },
  {
   "cell_type": "code",
   "execution_count": null,
   "metadata": {},
   "outputs": [],
   "source": []
  }
 ],
 "metadata": {
  "kernelspec": {
   "display_name": "Julia 1.10.0",
   "language": "julia",
   "name": "julia-1.10"
  },
  "language_info": {
   "file_extension": ".jl",
   "mimetype": "application/julia",
   "name": "julia",
   "version": "1.10.0"
  },
  "orig_nbformat": 4
 },
 "nbformat": 4,
 "nbformat_minor": 2
}
