{
 "cells": [
  {
   "cell_type": "markdown",
   "id": "53d44dd4",
   "metadata": {},
   "source": [
    "# WEC AC Injection"
   ]
  },
  {
   "cell_type": "markdown",
   "id": "5dfced41",
   "metadata": {},
   "source": [
    "### Imports"
   ]
  },
  {
   "cell_type": "code",
   "execution_count": 2,
   "id": "e8eadda7",
   "metadata": {},
   "outputs": [],
   "source": [
    "import sys\n",
    "sys.path.append('../wec-grid-code') # \n",
    "import wec_grid_class as wg\n",
    "import sqlite3\n",
    "import pandas as pd"
   ]
  },
  {
   "cell_type": "code",
   "execution_count": 3,
   "id": "bfff2e35",
   "metadata": {},
   "outputs": [],
   "source": [
    "# Read in case file \n",
    "case14 = r\"../input_files/case14.raw\""
   ]
  },
  {
   "cell_type": "markdown",
   "id": "e49fad68",
   "metadata": {},
   "source": [
    "### run for DC "
   ]
  },
  {
   "cell_type": "code",
   "execution_count": null,
   "id": "0a36660d",
   "metadata": {},
   "outputs": [],
   "source": [
    "# initalize WEC GRID Object\n",
    "pf = wg.Wec_grid(case14,\"DC\",3)"
   ]
  },
  {
   "cell_type": "markdown",
   "id": "ed7f4df0",
   "metadata": {},
   "source": [
    "### run for AC "
   ]
  },
  {
   "cell_type": "code",
   "execution_count": 5,
   "id": "ec03be92",
   "metadata": {},
   "outputs": [
    {
     "name": "stdout",
     "output_type": "stream",
     "text": [
      "\n",
      " Reading IC, SBASE, REV, XFRRAT, NXFRAT, BASFRQ...\n",
      "\n",
      " Converting RAW data from PSS(R)E 33 to PSS(R)E 34 format\n",
      " Starting processing of Case identification data records\n",
      " Finished processing of 3 records for Case identification data\n",
      " Starting processing of Bus data records\n",
      " Finished processing of 14 records for Bus data\n",
      " Starting processing of Load data records\n",
      " Finished processing of 11 records for Load data\n",
      " Starting processing of Fixed shunt data records\n",
      " Finished processing of 1 records for Fixed shunt data\n",
      " Starting processing of Generator data records\n",
      " Finished processing of 5 records for Generator data\n",
      " Starting processing of Branch data records\n",
      " Finished processing of 17 records for Branch data\n",
      " Finished processing of 0 records for System switching device data\n",
      " Starting processing of Transformer data records\n",
      " Finished processing of 12 records for 3 Transformer data\n",
      " Starting processing of Area data records\n",
      " Finished processing of 0 records for Area data\n",
      " Starting processing of Two-terminal dc data records\n",
      " Finished processing of 0 records for 0 Two-terminal dc data\n",
      " Starting processing of VSC dc line data records\n",
      " Finished processing of 0 records for 0 VSC dc line data\n",
      " Starting processing of Impedance correction data records\n",
      " Finished processing of 0 records for Impedance correction data\n",
      " Starting processing of Multi-terminal dc data records\n",
      " Finished processing of 0 records for 0 Multi-terminal dc data\n",
      " Starting processing of Multi-section line data records\n",
      " Finished processing of 0 records for Multi-section line data\n",
      " Starting processing of Zone data records\n",
      " Finished processing of 0 records for Zone data\n",
      " Starting processing of Inter-area transfer data records\n",
      " Finished processing of 0 records for Inter-area transfer data\n",
      " Starting processing of Owner data records\n",
      " Finished processing of 0 records for Owner data\n",
      " Starting processing of FACTS device data records\n",
      " Finished processing of 0 records for FACTS device data\n",
      " Starting processing of Switched shunt data records\n",
      " Finished processing of 0 records for Switched shunt data\n",
      " Starting processing of GNE data records\n",
      " Finished processing of 0 records for 0 GNE data\n",
      " Starting processing of Induction machine data records\n",
      " Finished processing of 0 records for Induction machine data\n",
      "\n",
      " Converting RAW data from PSS(R)E 34 to PSS(R)E 35 format\n",
      " Starting processing of Case identification data records\n",
      " Finished processing of 3 records for Case identification data\n",
      " Starting processing of System-wide data records\n",
      " Finished processing of 0 records for System-wide data\n",
      " Starting processing of Bus data records\n",
      " Finished processing of 14 records for Bus data\n",
      " Starting processing of Load data records\n",
      " Finished processing of 11 records for Load data\n",
      " Starting processing of Fixed shunt data records\n",
      " Finished processing of 1 records for Fixed shunt data\n",
      " Starting processing of Generator data records\n",
      " Finished processing of 5 records for Generator data\n",
      " Starting processing of Branch data records\n",
      " Finished processing of 17 records for Branch data\n",
      " Starting processing of System switching device data records\n",
      " Finished processing of 0 records for System switching device data\n",
      " Starting processing of Transformer data records\n",
      " Finished processing of 12 records for 3 Transformer data\n",
      " Starting processing of Area data records\n",
      " Finished processing of 0 records for Area data\n",
      " Starting processing of Two-terminal dc data records\n",
      " Finished processing of 0 records for 0 Two-terminal dc data\n",
      " Starting processing of VSC dc line data records\n",
      " Finished processing of 0 records for 0 VSC dc line data\n",
      " Starting processing of Impedance correction data records\n",
      " Finished processing of 0 records for Impedance correction data\n",
      " Starting processing of Multi-terminal dc data records\n",
      " Finished processing of 0 records for 0 Multi-terminal dc data\n",
      " Starting processing of Multi-section line data records\n",
      " Finished processing of 0 records for Multi-section line data\n",
      " Starting processing of Zone data records\n",
      " Finished processing of 0 records for Zone data\n",
      " Starting processing of Inter-area transfer data records\n",
      " Finished processing of 0 records for Inter-area transfer data\n",
      " Starting processing of Owner data records\n",
      " Finished processing of 0 records for Owner data\n",
      " Starting processing of FACTS device data records\n",
      " Finished processing of 0 records for FACTS device data\n",
      " Starting processing of Switched shunt data records\n",
      " Finished processing of 0 records for Switched shunt data\n",
      " Starting processing of GNE data records\n",
      " Finished processing of 0 records for 0 GNE data\n",
      " Starting processing of Induction machine data records\n",
      " Finished processing of 0 records for Induction machine data\n",
      " Starting processing of Substation data records\n",
      " Finished processing of 0 records for Substation data\n",
      "\n",
      " Reading current format RAW data file\n",
      "\n",
      " Reading IC, SBASE, REV, XFRRAT, NXFRAT, BASFRQ...\n",
      "\n",
      " Reading two line case heading...\n",
      "\n",
      " Reading system-wide data...\n",
      "\n",
      " Reading bus data...\n",
      "\n",
      " Reading load data...\n",
      "\n",
      " Reading fixed bus shunt data...\n",
      "\n",
      " Reading generator data...\n",
      "\n",
      " Reading non-transformer branch data...\n",
      "\n",
      " Reading system switching device data...\n",
      "\n",
      " Reading transformer data...\n",
      "\n",
      " Reading area interchange data...\n",
      "\n",
      " Reading two-terminal dc line data...\n",
      "\n",
      " Reading VSC dc line data...\n",
      "\n",
      " Reading transformer impedance correction data...\n",
      "\n",
      " Reading multi-terminal dc line data...\n",
      "\n",
      " Reading multi-section line data...\n",
      "\n",
      " Reading zone name data...\n",
      "\n",
      " Reading inter-area transfer data...\n",
      "\n",
      " Reading owner name data...\n",
      "\n",
      " Reading FACTS device data...\n",
      "\n",
      " Reading switched shunt data...\n",
      "\n",
      " Reading GNE device data...\n",
      "\n",
      " Reading induction machine data...\n",
      "\n",
      " Reading substation data...\n",
      "\n",
      " ** NON-TRANSFORMER BRANCH PERCENT LOADING UNITS option setting set to MVA\n",
      "\n",
      " Ordering network...\n",
      " Diagonals = 13   Off-diagonals = 22   Maximum size = 36\n",
      "\n",
      "  ITER       DELTAP      BUS         DELTAQ      BUS        DELTA/V/      BUS       DELTAANG      BUS\n",
      "   0         0.0035(     13     )    0.0422(      4     )\n",
      "                                                             0.00130(      4     )   0.00030(      4     )\n",
      "   1         0.0000(      5     )    0.0001(      4     )\n",
      "                                                             0.00000(      4     )   0.00000(      3     )\n",
      "   2         0.0000(      5     )    0.0000(      4     )\n",
      "\n",
      "\n",
      " Reached tolerance in 2 iterations\n",
      "\n",
      " Largest mismatch:      0.00 MW      0.00 Mvar      0.00 MVA at bus 2 [BUS 2             ]\n",
      " System total absolute mismatch:                    0.00 MVA\n",
      "\n",
      " SWING BUS SUMMARY:\n",
      "   BUS#-SCT X-- NAME --X BASKV      PGEN     PMAX    PMIN      QGEN     QMAX    QMIN\n",
      "      1     BUS 1                  232.4    332.4     0.0     -16.5*    10.0     0.0\n"
     ]
    }
   ],
   "source": [
    "# initalize WEC GRID Object\n",
    "pf = wg.Wec_grid(case14,\"fnsl\",3)"
   ]
  },
  {
   "cell_type": "markdown",
   "id": "79a78451",
   "metadata": {},
   "source": [
    "### Run WEC Model via matlab (takes a minute)"
   ]
  },
  {
   "cell_type": "code",
   "execution_count": null,
   "id": "64131a40",
   "metadata": {},
   "outputs": [],
   "source": [
    "#pf.run_WEC_Sim()"
   ]
  },
  {
   "cell_type": "code",
   "execution_count": null,
   "id": "acb250e4",
   "metadata": {},
   "outputs": [],
   "source": [
    "pf.dataframe"
   ]
  },
  {
   "cell_type": "markdown",
   "id": "8a283675",
   "metadata": {},
   "source": [
    "### Pull WEC injection values via SQL database"
   ]
  },
  {
   "cell_type": "code",
   "execution_count": null,
   "id": "1f6e1b90",
   "metadata": {},
   "outputs": [],
   "source": [
    "con = sqlite3.connect(\"../input_files/r2g_database.db\")\n",
    "injection = pd.read_sql_query(\"SELECT * from WEC_output\", con)\n",
    "print(injection)"
   ]
  },
  {
   "cell_type": "code",
   "execution_count": null,
   "id": "cec6e732",
   "metadata": {},
   "outputs": [],
   "source": [
    "for i in range(len(injection)):\n",
    "    print(\"Time: {}\".format(injection.iloc[i].time))\n",
    "    print(\"P setpoint: {}\".format(injection.pg.iloc[i]))\n",
    "    if pf.solver == 'AC':\n",
    "        pf.ac_injection(pf.wecBus_num, injection.pg.iloc[i], injection.vs.iloc[i],\n",
    "                        pf.solver, injection.iloc[i].time)\n",
    "    if pf.solver == 'DC':\n",
    "        pf.dc_injection(pf.wecBus_num, injection.pg.iloc[i], pf.solver, injection.iloc[i].time)\n",
    "    print(\"========================\")"
   ]
  },
  {
   "cell_type": "code",
   "execution_count": null,
   "id": "5402e566",
   "metadata": {},
   "outputs": [],
   "source": [
    "injection"
   ]
  },
  {
   "cell_type": "code",
   "execution_count": null,
   "id": "66ea2cf8",
   "metadata": {},
   "outputs": [],
   "source": [
    "pf.plotSwingBus()"
   ]
  },
  {
   "cell_type": "code",
   "execution_count": null,
   "id": "d03c1772",
   "metadata": {},
   "outputs": [],
   "source": [
    "pf.plotWecBus()"
   ]
  },
  {
   "cell_type": "code",
   "execution_count": null,
   "id": "5b3e86e7",
   "metadata": {},
   "outputs": [],
   "source": []
  },
  {
   "cell_type": "code",
   "execution_count": null,
   "id": "7adea610",
   "metadata": {},
   "outputs": [],
   "source": []
  }
 ],
 "metadata": {
  "kernelspec": {
   "display_name": "Python 3 (ipykernel)",
   "language": "python",
   "name": "python3"
  },
  "language_info": {
   "codemirror_mode": {
    "name": "ipython",
    "version": 3
   },
   "file_extension": ".py",
   "mimetype": "text/x-python",
   "name": "python",
   "nbconvert_exporter": "python",
   "pygments_lexer": "ipython3",
   "version": "3.7.16"
  }
 },
 "nbformat": 4,
 "nbformat_minor": 5
}
