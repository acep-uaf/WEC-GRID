{
 "cells": [
  {
   "cell_type": "code",
   "execution_count": 1,
   "id": "d51fe7b5",
   "metadata": {},
   "outputs": [
    {
     "name": "stdout",
     "output_type": "stream",
     "text": [
      "    Sets PSSE environment to latest minor version among installed versions of PSSE 35.\n",
      "    Use psse35.set_minor(n) to set PSSE35 minor version (n) to use.\n",
      "        Example, for PSSE 35.0.x, use this as: psse35.set_minor(0)\n",
      "\n",
      " Input error detected at !\n",
      " -m ipykernel_launcher -f C:\\Users\\alexb\\AppData\\Roaming\\jupyter\\runtime\\kernel-2f198bd7-8f9c-4e26-9902-262234e88af1.json\n",
      "                          !\n",
      "\n",
      " PSS(R)E Xplore Version 35\n",
      " Copyright (c) 1976-2023\n",
      " Siemens Industry, Inc.,\n",
      " Power Technologies International                            (PTI)\n",
      " This program is a confidential  unpublished  work  created  and  first\n",
      " licensed in 1976.  It is a trade secret which is the property of  PTI.\n",
      " All use,  disclosure,  and/or reproduction not specifically authorized\n",
      " by  PTI  is prohibited.   This  program is protected  under  copyright\n",
      " laws  of  non-U.S.  countries  and  by  application  of  international\n",
      " treaties.  All  Rights  Reserved  Under  The  Copyright  Laws.\n",
      "\n",
      "\n",
      "           SIEMENS POWER TECHNOLOGIES INTERNATIONAL\n",
      "\n",
      "    50 BUS POWER SYSTEM SIMULATOR--PSS(R)E Xplore-35.3.2\n",
      "\n",
      "             INITIATED ON THU, JAN 26 2023  15:34\n"
     ]
    }
   ],
   "source": [
    "import sys\n",
    "sys.path.append('../wec-grid-code') # \n",
    "import wec_grid_class as wg\n",
    "import sqlite3\n",
    "import pandas as pd\n",
    "import silence #This prevents the output bar of PSSe from outputting in the console, which reduces simulation time\n",
    "from silence import silence\n",
    "import io"
   ]
  },
  {
   "cell_type": "code",
   "execution_count": null,
   "id": "68f95c6b",
   "metadata": {},
   "outputs": [],
   "source": [
    "# Read in case file\n",
    "case = r\"../input_files/case.sav\"\n",
    "# initalize WEC GRID Object\n",
    "pf = wg.Wec_grid(case,\"fnsl\",3)\n",
    "pf.dataframe"
   ]
  },
  {
   "cell_type": "code",
   "execution_count": null,
   "id": "369a8467",
   "metadata": {},
   "outputs": [],
   "source": [
    "\"../input_files/dynamics.dyr\""
   ]
  },
  {
   "cell_type": "code",
   "execution_count": null,
   "id": "5942ba67",
   "metadata": {},
   "outputs": [],
   "source": [
    "pf.run_dynamics()"
   ]
  },
  {
   "cell_type": "code",
   "execution_count": null,
   "id": "654e9fd3",
   "metadata": {},
   "outputs": [],
   "source": [
    "psspy"
   ]
  },
  {
   "cell_type": "code",
   "execution_count": null,
   "id": "4918350f",
   "metadata": {},
   "outputs": [],
   "source": []
  }
 ],
 "metadata": {
  "kernelspec": {
   "display_name": "Python 3 (ipykernel)",
   "language": "python",
   "name": "python3"
  },
  "language_info": {
   "codemirror_mode": {
    "name": "ipython",
    "version": 3
   },
   "file_extension": ".py",
   "mimetype": "text/x-python",
   "name": "python",
   "nbconvert_exporter": "python",
   "pygments_lexer": "ipython3",
   "version": "3.7.16"
  }
 },
 "nbformat": 4,
 "nbformat_minor": 5
}
