{
 "cells": [
  {
   "cell_type": "code",
   "execution_count": 1,
   "metadata": {
    "vscode": {
     "languageId": "powershell"
    }
   },
   "outputs": [],
   "source": [
    "\"\"\"\n",
    "Imports \n",
    "\"\"\"\n",
    "import WEC_GRID as wg  # import the WEC-GRID software\n",
    "import numpy as np\n",
    "import pandas as pd\n"
   ]
  },
  {
   "cell_type": "code",
   "execution_count": 2,
   "metadata": {},
   "outputs": [
    {
     "name": "stdout",
     "output_type": "stream",
     "text": [
      "    Sets PSSE environment to latest minor version among installed versions of PSSE 35.\n",
      "    Use psse35.set_minor(n) to set PSSE35 minor version (n) to use.\n",
      "        Example, for PSSE 35.0.x, use this as: psse35.set_minor(0)\n",
      "\n",
      " PSS(R)E Xplore Version 35\n",
      " Copyright (c) 1976-2025\n",
      " Siemens Industry, Inc.,\n",
      " Power Technologies International                            (PTI)\n",
      " This program is a confidential  unpublished  work  created  and  first\n",
      " licensed in 1976.  It is a trade secret which is the property of  PTI.\n",
      " All use,  disclosure,  and/or reproduction not specifically authorized\n",
      " by  PTI  is prohibited.   This  program is protected  under  copyright\n",
      " laws  of  non-U.S.  countries  and  by  application  of  international\n",
      " treaties.  All  Rights  Reserved  Under  The  Copyright  Laws.\n",
      "\n",
      " Could not find entry point runpy_add_to_sys_path\n",
      "\n",
      "           SIEMENS POWER TECHNOLOGIES INTERNATIONAL\n",
      "\n",
      "    50 BUS POWER SYSTEM SIMULATOR--PSS(R)E Xplore-35.5.2\n",
      "\n",
      "             INITIATED ON FRI, JAN 17 2025  12:18\n",
      "\n",
      " Reading IC, SBASE, REV, XFRRAT, NXFRAT, BASFRQ...\n",
      "\n",
      " Converting RAW data from PSS(R)E 33 to PSS(R)E 34 format\n",
      " Starting processing of Case identification data records\n",
      " Finished processing of 3 records for Case identification data\n",
      " Starting processing of Bus data records\n",
      " Finished processing of 24 records for Bus data\n",
      " Starting processing of Load data records\n",
      " Finished processing of 16 records for Load data\n",
      " Starting processing of Fixed shunt data records\n",
      " Finished processing of 0 records for Fixed shunt data\n",
      " Starting processing of Generator data records\n",
      " Finished processing of 11 records for Generator data\n",
      " Starting processing of Branch data records\n",
      " Finished processing of 32 records for Branch data\n",
      " Finished processing of 0 records for System switching device data\n",
      " Starting processing of Transformer data records\n",
      " Finished processing of 24 records for 6 Transformer data\n",
      " Starting processing of Area data records\n",
      " Finished processing of 1 records for Area data\n",
      " Starting processing of Two-terminal dc data records\n",
      " Finished processing of 0 records for 0 Two-terminal dc data\n",
      " Starting processing of VSC dc line data records\n",
      " Finished processing of 0 records for 0 VSC dc line data\n",
      " Starting processing of Impedance correction data records\n",
      " Finished processing of 0 records for Impedance correction data\n",
      " Starting processing of Multi-terminal dc data records\n",
      " Finished processing of 0 records for 0 Multi-terminal dc data\n",
      " Starting processing of Multi-section line data records\n",
      " Finished processing of 0 records for Multi-section line data\n",
      " Starting processing of Zone data records\n",
      " Finished processing of 1 records for Zone data\n",
      " Starting processing of Inter-area transfer data records\n",
      " Finished processing of 0 records for Inter-area transfer data\n",
      " Starting processing of Owner data records\n",
      " Finished processing of 1 records for Owner data\n",
      " Starting processing of FACTS device data records\n",
      " Finished processing of 0 records for FACTS device data\n",
      " Starting processing of Switched shunt data records\n",
      " Finished processing of 2 records for Switched shunt data\n",
      " Starting processing of GNE data records\n",
      " Finished processing of 0 records for 0 GNE data\n",
      " Starting processing of Induction machine data records\n",
      " Finished processing of 0 records for Induction machine data\n",
      "\n",
      " Converting RAW data from PSS(R)E 34 to PSS(R)E 35 format\n",
      " Starting processing of Case identification data records\n",
      " Finished processing of 3 records for Case identification data\n",
      " Starting processing of System-wide data records\n",
      " Finished processing of 0 records for System-wide data\n",
      " Starting processing of Bus data records\n",
      " Finished processing of 24 records for Bus data\n",
      " Starting processing of Load data records\n",
      " Finished processing of 16 records for Load data\n",
      " Starting processing of Fixed shunt data records\n",
      " Finished processing of 0 records for Fixed shunt data\n",
      " Starting processing of Generator data records\n",
      " Finished processing of 11 records for Generator data\n",
      " Starting processing of Branch data records\n",
      " Finished processing of 32 records for Branch data\n",
      " Starting processing of System switching device data records\n",
      " Finished processing of 0 records for System switching device data\n",
      " Starting processing of Transformer data records\n",
      " Finished processing of 24 records for 6 Transformer data\n",
      " Starting processing of Area data records\n",
      " Finished processing of 1 records for Area data\n",
      " Starting processing of Two-terminal dc data records\n",
      " Finished processing of 0 records for 0 Two-terminal dc data\n",
      " Starting processing of VSC dc line data records\n",
      " Finished processing of 0 records for 0 VSC dc line data\n",
      " Starting processing of Impedance correction data records\n",
      " Finished processing of 0 records for Impedance correction data\n",
      " Starting processing of Multi-terminal dc data records\n",
      " Finished processing of 0 records for 0 Multi-terminal dc data\n",
      " Starting processing of Multi-section line data records\n",
      " Finished processing of 0 records for Multi-section line data\n",
      " Starting processing of Zone data records\n",
      " Finished processing of 1 records for Zone data\n",
      " Starting processing of Inter-area transfer data records\n",
      " Finished processing of 0 records for Inter-area transfer data\n",
      " Starting processing of Owner data records\n",
      " Finished processing of 1 records for Owner data\n",
      " Starting processing of FACTS device data records\n",
      " Finished processing of 0 records for FACTS device data\n",
      " Starting processing of Switched shunt data records\n",
      " Finished processing of 2 records for Switched shunt data\n",
      " Starting processing of GNE data records\n",
      " Finished processing of 0 records for 0 GNE data\n",
      " Starting processing of Induction machine data records\n",
      " Finished processing of 0 records for Induction machine data\n",
      " Starting processing of Substation data records\n",
      " Finished processing of 0 records for Substation data\n",
      "\n",
      " Reading current format RAW data file\n",
      "\n",
      " Reading IC, SBASE, REV, XFRRAT, NXFRAT, BASFRQ...\n",
      "\n",
      " Reading two line case heading...\n",
      "\n",
      " Reading system-wide data...\n",
      "\n",
      " Reading bus data...\n",
      "\n",
      " Reading load data...\n",
      "\n",
      " Reading fixed bus shunt data...\n",
      "\n",
      " Reading generator data...\n",
      "\n",
      " Reading non-transformer branch data...\n",
      "\n",
      " Messages for circuit \"1\" from 7 [7           138.00] to 8 [8           230.00]:   (000510)\n",
      "  Warn: Non-transformer branch connects buses with different base voltages   (000526)\n",
      "\n",
      " Messages for circuit \"1\" from 8 [8           230.00] to 9 [9           138.00]:   (000510)\n",
      "  Warn: Non-transformer branch connects buses with different base voltages   (000526)\n",
      "\n",
      " Messages for circuit \"1\" from 8 [8           230.00] to 10 [10          138.00]:   (000510)\n",
      "  Warn: Non-transformer branch connects buses with different base voltages   (000526)\n",
      "\n",
      " Reading system switching device data...\n",
      "\n",
      " Reading transformer data...\n",
      "\n",
      " Messages for two-winding transformer circuit \"1\" from 24 [24          230.00] to 3 [3           138.00]:   (005243)\n",
      "  Warn: Winding 2 bus base voltage (138.000) and nominal voltage (230.000) differ by more than 20(005263)\n",
      "\n",
      " Messages for two-winding transformer circuit \"1\" from 5 [5           138.00] to 10 [10          138.00]:   (005243)\n",
      "  Warn: Winding 1 bus base voltage (138.000) and nominal voltage (230.000) differ by more than 20(005263)\n",
      "  Warn: Winding 2 bus base voltage (138.000) and nominal voltage (230.000) differ by more than 20(005263)\n",
      "  Warn: Magnetizing susceptance MAG2 (.254000E-01) is positive   (005293)\n",
      "\n",
      " Messages for two-winding transformer circuit \"1\" from 11 [11          230.00] to 9 [9           138.00]:   (005243)\n",
      "  Warn: Winding 2 bus base voltage (138.000) and nominal voltage (230.000) differ by more than 20(005263)\n",
      "\n",
      " Messages for two-winding transformer circuit \"1\" from 9 [9           138.00] to 12 [12          230.00]:   (005243)\n",
      "  Warn: Winding 1 bus base voltage (138.000) and nominal voltage (230.000) differ by more than 20(005263)\n",
      "\n",
      " Messages for two-winding transformer circuit \"1\" from 11 [11          230.00] to 10 [10          138.00]:   (005243)\n",
      "  Warn: Winding 2 bus base voltage (138.000) and nominal voltage (230.000) differ by more than 20(005263)\n",
      "\n",
      " Messages for two-winding transformer circuit \"1\" from 12 [12          230.00] to 10 [10          138.00]:   (005243)\n",
      "  Warn: Winding 2 bus base voltage (138.000) and nominal voltage (230.000) differ by more than 20(005263)\n",
      "\n",
      " Reading area interchange data...\n",
      "\n",
      " Reading two-terminal dc line data...\n",
      "\n",
      " Reading VSC dc line data...\n",
      "\n",
      " Reading transformer impedance correction data...\n",
      "\n",
      " Reading multi-terminal dc line data...\n",
      "\n",
      " Reading multi-section line data...\n",
      "\n",
      " Reading zone name data...\n",
      "\n",
      " Reading inter-area transfer data...\n",
      "\n",
      " Reading owner name data...\n",
      "\n",
      " Reading FACTS device data...\n",
      "\n",
      " Reading switched shunt data...\n",
      "\n",
      " Messages for switched shunt \"1\" at bus 1 [1           138.00]:   (004764)\n",
      "  Warn: Remote regulated bus is specified for a type 3 bus   (004802)\n",
      "\n",
      " Reading GNE device data...\n",
      "\n",
      " Reading induction machine data...\n",
      "\n",
      " Reading substation data...\n",
      "\n",
      " ** NON-TRANSFORMER BRANCH PERCENT LOADING UNITS option setting set to MVA\n",
      "\n",
      " Ordering network...\n",
      " Diagonals = 23   Off-diagonals = 45   Maximum size = 62\n",
      "\n",
      "  ITER       DELTAP      BUS         DELTAQ      BUS        DELTA/V/      BUS       DELTAANG      BUS\n",
      "   0         0.0004(     19     )    0.0110(      5     )\n",
      "                                                             0.00056(      7     )   0.00042(     21     )\n",
      "   1         0.0000(     23     )    0.0000(     21     )\n",
      "                                                             0.00000(      7     )   0.00000(     21     )\n",
      "   2         0.0000(     23     )    0.0000(      6     )\n",
      "\n",
      "\n",
      " Reached tolerance in 2 iterations\n",
      "\n",
      " Largest mismatch:      0.00 MW      0.00 Mvar      0.00 MVA at bus 22 [22          230.00]\n",
      " System total absolute mismatch:                    0.00 MVA\n",
      "\n",
      " SWING BUS SUMMARY:\n",
      "   BUS#-SCT X-- NAME --X BASKV      PGEN     PMAX    PMIN      QGEN     QMAX    QMIN\n",
      "      1     1           138.00      35.9   1000.0     0.0     180.5   9900.0 -9900.0\n"
     ]
    }
   ],
   "source": [
    "WecObj = wg.Wec_grid(\n",
    "    \"../WEC_GRID/models/grid_models/IEEE_24_bus.RAW\"\n",
    ")  # initialize Object with Grid file (figure 1)\n",
    "\n",
    "WecObj.initalize_psse(\"fnsl\")  # initalize PSSe with solver"
   ]
  },
  {
   "cell_type": "code",
   "execution_count": 4,
   "metadata": {},
   "outputs": [
    {
     "name": "stdout",
     "output_type": "stream",
     "text": [
      "%PYTHONPATH%\n"
     ]
    }
   ],
   "source": [
    "echo %PYTHONPATH%"
   ]
  },
  {
   "cell_type": "code",
   "execution_count": null,
   "metadata": {},
   "outputs": [],
   "source": []
  },
  {
   "cell_type": "code",
   "execution_count": null,
   "metadata": {},
   "outputs": [],
   "source": []
  },
  {
   "cell_type": "code",
   "execution_count": null,
   "metadata": {},
   "outputs": [],
   "source": []
  },
  {
   "cell_type": "code",
   "execution_count": null,
   "metadata": {},
   "outputs": [],
   "source": []
  },
  {
   "cell_type": "code",
   "execution_count": 1,
   "metadata": {},
   "outputs": [
    {
     "name": "stderr",
     "output_type": "stream",
     "text": [
      "c:\\Users\\alexb\\miniconda3\\envs\\PSSe\\lib\\site-packages\\numpy\\__init__.py:148: UserWarning: mkl-service package failed to import, therefore Intel(R) MKL initialization ensuring its correct out-of-the box operation under condition when Gnu OpenMP had already been loaded by Python process is not assured. Please install mkl-service package, see http://github.com/IntelPython/mkl-service\n",
      "  from . import _distributor_init\n"
     ]
    },
    {
     "ename": "ImportError",
     "evalue": "Unable to import required dependencies:\nnumpy: \n\nIMPORTANT: PLEASE READ THIS FOR ADVICE ON HOW TO SOLVE THIS ISSUE!\n\nImporting the numpy C-extensions failed. This error can happen for\nmany reasons, often due to issues with your setup or how NumPy was\ninstalled.\n\nWe have compiled some common reasons and troubleshooting tips at:\n\n    https://numpy.org/devdocs/user/troubleshooting-importerror.html\n\nPlease note and check the following:\n\n  * The Python version is: Python3.7 from \"c:\\Users\\alexb\\miniconda3\\envs\\PSSe\\python.exe\"\n  * The NumPy version is: \"1.21.5\"\n\nand make sure that they are the versions you expect.\nPlease carefully study the documentation linked above for further help.\n\nOriginal error was: DLL load failed: The specified module could not be found.\n",
     "output_type": "error",
     "traceback": [
      "\u001b[1;31m---------------------------------------------------------------------------\u001b[0m",
      "\u001b[1;31mImportError\u001b[0m                               Traceback (most recent call last)",
      "\u001b[1;32m~\\AppData\\Local\\Temp\\ipykernel_13568\\4080736814.py\u001b[0m in \u001b[0;36m<module>\u001b[1;34m\u001b[0m\n\u001b[1;32m----> 1\u001b[1;33m \u001b[1;32mimport\u001b[0m \u001b[0mpandas\u001b[0m \u001b[1;32mas\u001b[0m \u001b[0mpd\u001b[0m\u001b[1;33m\u001b[0m\u001b[1;33m\u001b[0m\u001b[0m\n\u001b[0m",
      "\u001b[1;32mc:\\Users\\alexb\\miniconda3\\envs\\PSSe\\lib\\site-packages\\pandas\\__init__.py\u001b[0m in \u001b[0;36m<module>\u001b[1;34m\u001b[0m\n\u001b[0;32m     15\u001b[0m \u001b[1;32mif\u001b[0m \u001b[0mmissing_dependencies\u001b[0m\u001b[1;33m:\u001b[0m\u001b[1;33m\u001b[0m\u001b[1;33m\u001b[0m\u001b[0m\n\u001b[0;32m     16\u001b[0m     raise ImportError(\n\u001b[1;32m---> 17\u001b[1;33m         \u001b[1;34m\"Unable to import required dependencies:\\n\"\u001b[0m \u001b[1;33m+\u001b[0m \u001b[1;34m\"\\n\"\u001b[0m\u001b[1;33m.\u001b[0m\u001b[0mjoin\u001b[0m\u001b[1;33m(\u001b[0m\u001b[0mmissing_dependencies\u001b[0m\u001b[1;33m)\u001b[0m\u001b[1;33m\u001b[0m\u001b[1;33m\u001b[0m\u001b[0m\n\u001b[0m\u001b[0;32m     18\u001b[0m     )\n\u001b[0;32m     19\u001b[0m \u001b[1;32mdel\u001b[0m \u001b[0mhard_dependencies\u001b[0m\u001b[1;33m,\u001b[0m \u001b[0mdependency\u001b[0m\u001b[1;33m,\u001b[0m \u001b[0mmissing_dependencies\u001b[0m\u001b[1;33m\u001b[0m\u001b[1;33m\u001b[0m\u001b[0m\n",
      "\u001b[1;31mImportError\u001b[0m: Unable to import required dependencies:\nnumpy: \n\nIMPORTANT: PLEASE READ THIS FOR ADVICE ON HOW TO SOLVE THIS ISSUE!\n\nImporting the numpy C-extensions failed. This error can happen for\nmany reasons, often due to issues with your setup or how NumPy was\ninstalled.\n\nWe have compiled some common reasons and troubleshooting tips at:\n\n    https://numpy.org/devdocs/user/troubleshooting-importerror.html\n\nPlease note and check the following:\n\n  * The Python version is: Python3.7 from \"c:\\Users\\alexb\\miniconda3\\envs\\PSSe\\python.exe\"\n  * The NumPy version is: \"1.21.5\"\n\nand make sure that they are the versions you expect.\nPlease carefully study the documentation linked above for further help.\n\nOriginal error was: DLL load failed: The specified module could not be found.\n"
     ]
    }
   ],
   "source": [
    "import pandas as pd"
   ]
  },
  {
   "cell_type": "code",
   "execution_count": 1,
   "metadata": {},
   "outputs": [
    {
     "ename": "ModuleNotFoundError",
     "evalue": "No module named 'WEC_GRID'",
     "output_type": "error",
     "traceback": [
      "\u001b[1;31m---------------------------------------------------------------------------\u001b[0m",
      "\u001b[1;31mModuleNotFoundError\u001b[0m                       Traceback (most recent call last)",
      "Cell \u001b[1;32mIn[1], line 4\u001b[0m\n\u001b[0;32m      1\u001b[0m \u001b[38;5;124;03m\"\"\"\u001b[39;00m\n\u001b[0;32m      2\u001b[0m \u001b[38;5;124;03mImports \u001b[39;00m\n\u001b[0;32m      3\u001b[0m \u001b[38;5;124;03m\"\"\"\u001b[39;00m\n\u001b[1;32m----> 4\u001b[0m \u001b[38;5;28;01mimport\u001b[39;00m\u001b[38;5;250m \u001b[39m\u001b[38;5;21;01mWEC_GRID\u001b[39;00m\u001b[38;5;250m \u001b[39m\u001b[38;5;28;01mas\u001b[39;00m\u001b[38;5;250m \u001b[39m\u001b[38;5;21;01mwg\u001b[39;00m  \u001b[38;5;66;03m# import the WEC-GRID software\u001b[39;00m\n\u001b[0;32m      5\u001b[0m \u001b[38;5;28;01mimport\u001b[39;00m\u001b[38;5;250m \u001b[39m\u001b[38;5;21;01mnumpy\u001b[39;00m\u001b[38;5;250m \u001b[39m\u001b[38;5;28;01mas\u001b[39;00m\u001b[38;5;250m \u001b[39m\u001b[38;5;21;01mnp\u001b[39;00m\n\u001b[0;32m      6\u001b[0m \u001b[38;5;28;01mimport\u001b[39;00m\u001b[38;5;250m \u001b[39m\u001b[38;5;21;01mpandas\u001b[39;00m\u001b[38;5;250m \u001b[39m\u001b[38;5;28;01mas\u001b[39;00m\u001b[38;5;250m \u001b[39m\u001b[38;5;21;01mpd\u001b[39;00m\n",
      "\u001b[1;31mModuleNotFoundError\u001b[0m: No module named 'WEC_GRID'"
     ]
    }
   ],
   "source": [
    "\"\"\"\n",
    "Imports \n",
    "\"\"\"\n",
    "import WEC_GRID as wg  # import the WEC-GRID software\n",
    "import numpy as np\n",
    "import pandas as pd\n"
   ]
  },
  {
   "cell_type": "code",
   "execution_count": 3,
   "metadata": {},
   "outputs": [
    {
     "ename": "ImportError",
     "evalue": "Unable to import required dependencies:\nnumpy: \n\nIMPORTANT: PLEASE READ THIS FOR ADVICE ON HOW TO SOLVE THIS ISSUE!\n\nImporting the numpy C-extensions failed. This error can happen for\nmany reasons, often due to issues with your setup or how NumPy was\ninstalled.\n\nWe have compiled some common reasons and troubleshooting tips at:\n\n    https://numpy.org/devdocs/user/troubleshooting-importerror.html\n\nPlease note and check the following:\n\n  * The Python version is: Python3.7 from \"c:\\Users\\alexb\\miniconda3\\envs\\PSSe\\python.exe\"\n  * The NumPy version is: \"1.21.5\"\n\nand make sure that they are the versions you expect.\nPlease carefully study the documentation linked above for further help.\n\nOriginal error was: DLL load failed: The specified module could not be found.\n",
     "output_type": "error",
     "traceback": [
      "\u001b[1;31m---------------------------------------------------------------------------\u001b[0m",
      "\u001b[1;31mImportError\u001b[0m                               Traceback (most recent call last)",
      "\u001b[1;32m~\\AppData\\Local\\Temp\\ipykernel_9972\\1881896174.py\u001b[0m in \u001b[0;36m<module>\u001b[1;34m\u001b[0m\n\u001b[0;32m      2\u001b[0m \u001b[0mImports\u001b[0m\u001b[1;33m\u001b[0m\u001b[1;33m\u001b[0m\u001b[0m\n\u001b[0;32m      3\u001b[0m \"\"\"\n\u001b[1;32m----> 4\u001b[1;33m \u001b[1;32mimport\u001b[0m \u001b[0mWEC_GRID\u001b[0m \u001b[1;32mas\u001b[0m \u001b[0mwg\u001b[0m  \u001b[1;31m# import the WEC-GRID software\u001b[0m\u001b[1;33m\u001b[0m\u001b[1;33m\u001b[0m\u001b[0m\n\u001b[0m\u001b[0;32m      5\u001b[0m \u001b[1;32mimport\u001b[0m \u001b[0mnumpy\u001b[0m \u001b[1;32mas\u001b[0m \u001b[0mnp\u001b[0m\u001b[1;33m\u001b[0m\u001b[1;33m\u001b[0m\u001b[0m\n\u001b[0;32m      6\u001b[0m \u001b[1;32mimport\u001b[0m \u001b[0mpandas\u001b[0m \u001b[1;32mas\u001b[0m \u001b[0mpd\u001b[0m\u001b[1;33m\u001b[0m\u001b[1;33m\u001b[0m\u001b[0m\n",
      "\u001b[1;32mc:\\users\\alexb\\research\\wec-grid\\WEC_GRID\\__init__.py\u001b[0m in \u001b[0;36m<module>\u001b[1;34m\u001b[0m\n\u001b[1;32m----> 1\u001b[1;33m \u001b[1;32mfrom\u001b[0m \u001b[1;33m.\u001b[0m\u001b[0mwec_grid\u001b[0m \u001b[1;32mimport\u001b[0m \u001b[1;33m*\u001b[0m\u001b[1;33m\u001b[0m\u001b[1;33m\u001b[0m\u001b[0m\n\u001b[0m",
      "\u001b[1;32mc:\\users\\alexb\\research\\wec-grid\\WEC_GRID\\wec_grid.py\u001b[0m in \u001b[0;36m<module>\u001b[1;34m\u001b[0m\n\u001b[0;32m     14\u001b[0m \u001b[1;33m\u001b[0m\u001b[0m\n\u001b[0;32m     15\u001b[0m \u001b[1;31m# Third-party Libraries\u001b[0m\u001b[1;33m\u001b[0m\u001b[1;33m\u001b[0m\u001b[1;33m\u001b[0m\u001b[0m\n\u001b[1;32m---> 16\u001b[1;33m \u001b[1;32mimport\u001b[0m \u001b[0mpandas\u001b[0m \u001b[1;32mas\u001b[0m \u001b[0mpd\u001b[0m\u001b[1;33m\u001b[0m\u001b[1;33m\u001b[0m\u001b[0m\n\u001b[0m\u001b[0;32m     17\u001b[0m \u001b[1;32mimport\u001b[0m \u001b[0mnumpy\u001b[0m \u001b[1;32mas\u001b[0m \u001b[0mnp\u001b[0m\u001b[1;33m\u001b[0m\u001b[1;33m\u001b[0m\u001b[0m\n\u001b[0;32m     18\u001b[0m \u001b[1;32mimport\u001b[0m \u001b[0msqlite3\u001b[0m\u001b[1;33m\u001b[0m\u001b[1;33m\u001b[0m\u001b[0m\n",
      "\u001b[1;32mc:\\Users\\alexb\\miniconda3\\envs\\PSSe\\lib\\site-packages\\pandas\\__init__.py\u001b[0m in \u001b[0;36m<module>\u001b[1;34m\u001b[0m\n\u001b[0;32m     15\u001b[0m \u001b[1;32mif\u001b[0m \u001b[0mmissing_dependencies\u001b[0m\u001b[1;33m:\u001b[0m\u001b[1;33m\u001b[0m\u001b[1;33m\u001b[0m\u001b[0m\n\u001b[0;32m     16\u001b[0m     raise ImportError(\n\u001b[1;32m---> 17\u001b[1;33m         \u001b[1;34m\"Unable to import required dependencies:\\n\"\u001b[0m \u001b[1;33m+\u001b[0m \u001b[1;34m\"\\n\"\u001b[0m\u001b[1;33m.\u001b[0m\u001b[0mjoin\u001b[0m\u001b[1;33m(\u001b[0m\u001b[0mmissing_dependencies\u001b[0m\u001b[1;33m)\u001b[0m\u001b[1;33m\u001b[0m\u001b[1;33m\u001b[0m\u001b[0m\n\u001b[0m\u001b[0;32m     18\u001b[0m     )\n\u001b[0;32m     19\u001b[0m \u001b[1;32mdel\u001b[0m \u001b[0mhard_dependencies\u001b[0m\u001b[1;33m,\u001b[0m \u001b[0mdependency\u001b[0m\u001b[1;33m,\u001b[0m \u001b[0mmissing_dependencies\u001b[0m\u001b[1;33m\u001b[0m\u001b[1;33m\u001b[0m\u001b[0m\n",
      "\u001b[1;31mImportError\u001b[0m: Unable to import required dependencies:\nnumpy: \n\nIMPORTANT: PLEASE READ THIS FOR ADVICE ON HOW TO SOLVE THIS ISSUE!\n\nImporting the numpy C-extensions failed. This error can happen for\nmany reasons, often due to issues with your setup or how NumPy was\ninstalled.\n\nWe have compiled some common reasons and troubleshooting tips at:\n\n    https://numpy.org/devdocs/user/troubleshooting-importerror.html\n\nPlease note and check the following:\n\n  * The Python version is: Python3.7 from \"c:\\Users\\alexb\\miniconda3\\envs\\PSSe\\python.exe\"\n  * The NumPy version is: \"1.21.5\"\n\nand make sure that they are the versions you expect.\nPlease carefully study the documentation linked above for further help.\n\nOriginal error was: DLL load failed: The specified module could not be found.\n"
     ]
    }
   ],
   "source": [
    "\"\"\"\n",
    "Imports \n",
    "\"\"\"\n",
    "import WEC_GRID as wg  # import the WEC-GRID software\n",
    "import numpy as np\n",
    "import pandas as pd\n",
    "\n",
    "\n",
    "WecObj = wg.Wec_grid(\n",
    "    \"../models/grid_models/IEEE_24_bus.RAW\"\n",
    ")  # initialize Object with Grid file (figure 1)\n",
    "\n",
    "WecObj.initalize_psse(\"fnsl\")  # initalize PSSe with solver"
   ]
  },
  {
   "cell_type": "code",
   "execution_count": null,
   "metadata": {},
   "outputs": [],
   "source": []
  },
  {
   "cell_type": "code",
   "execution_count": null,
   "metadata": {},
   "outputs": [],
   "source": []
  }
 ],
 "metadata": {
  "kernelspec": {
   "display_name": "WEC_GRID_ENV",
   "language": "python",
   "name": "python3"
  },
  "language_info": {
   "codemirror_mode": {
    "name": "ipython",
    "version": 3
   },
   "file_extension": ".py",
   "mimetype": "text/x-python",
   "name": "python",
   "nbconvert_exporter": "python",
   "pygments_lexer": "ipython3",
   "version": "3.7.1"
  }
 },
 "nbformat": 4,
 "nbformat_minor": 2
}
