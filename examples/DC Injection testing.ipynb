{
 "cells": [
  {
   "cell_type": "markdown",
   "id": "696c83e0",
   "metadata": {
    "toc": true
   },
   "source": [
    "<h1>Table of Contents<span class=\"tocSkip\"></span></h1>\n",
    "<div class=\"toc\"><ul class=\"toc-item\"></ul></div>"
   ]
  },
  {
   "cell_type": "code",
   "execution_count": 2,
   "id": "fbc840ae",
   "metadata": {
    "ExecuteTime": {
     "end_time": "2023-02-22T00:39:45.563839Z",
     "start_time": "2023-02-22T00:39:45.516975Z"
    }
   },
   "outputs": [
    {
     "data": {
      "text/html": [
       "<style>.container { width:80% !important; }</style>"
      ],
      "text/plain": [
       "<IPython.core.display.HTML object>"
      ]
     },
     "metadata": {},
     "output_type": "display_data"
    }
   ],
   "source": [
    "import os\n",
    "import sys\n",
    "\n",
    "\n",
    "os.environ[\"KMP_DUPLICATE_LIB_OK\"]=\"TRUE\"\n",
    "\n",
    "paths = []\n",
    "with open('../wec-grid-code/path_config.txt', 'r') as fp:\n",
    "    while 1:\n",
    "        line = fp.readline()\n",
    "        if len(line) == 0:  # end of file break\n",
    "            break\n",
    "        temp = line.split('\\n')\n",
    "        paths.append(r'{}'.format(temp[0])) # will allow spaces in path strings\n",
    "\n",
    "psse_path = paths[0]\n",
    "wec_sim_path = paths[1]\n",
    "wec_model_path = paths[2]\n",
    "wec_grid_class_path = paths[3]\n",
    "wec_grid_folder = paths[4]\n",
    "\n",
    "# Path stuff\n",
    "\n",
    "sys.path.append(psse_path + \"\\\\PSSPY37\")\n",
    "sys.path.append(psse_path + \"\\\\PSSBIN\")\n",
    "sys.path.append(psse_path + \"\\\\PSSLIB\")\n",
    "sys.path.append(psse_path + \"\\\\EXAMPLE\")\n",
    "sys.path.append(psse_path + \"\\\\PSSPY37\")\n",
    "os.environ['PATH'] = (\n",
    "            psse_path + \"\\\\PSSPY37;\" + psse_path + \"\\\\PSSBIN;\" + psse_path + \"\\\\EXAMPLE;\" + os.environ['PATH'])\n",
    "\n",
    "import pandas as pd\n",
    "import psse35\n",
    "import numpy as np\n",
    "psse35.set_minor(2)\n",
    "import matplotlib.pyplot as plt\n",
    "import psspy\n",
    "#import redirect\n",
    "import sqlite3\n",
    "import seaborn as sns\n",
    "\n",
    "#redirect.psse2py()\n",
    "from IPython.display import display, HTML\n",
    "display(HTML(\"<style>.container { width:80% !important; }</style>\"))"
   ]
  },
  {
   "cell_type": "code",
   "execution_count": 9,
   "id": "cba743e1",
   "metadata": {
    "ExecuteTime": {
     "end_time": "2023-02-22T00:40:33.251179Z",
     "start_time": "2023-02-22T00:40:33.219908Z"
    }
   },
   "outputs": [],
   "source": [
    "import sys\n",
    "\n",
    "class Tee(object):\n",
    "    def __init__(self, *files):\n",
    "        self.files = files\n",
    "    def write(self, obj):\n",
    "        for f in self.files:\n",
    "            f.write(obj)\n",
    "            f.flush() # If you want the output to be visible immediately\n",
    "    def flush(self) :\n",
    "        for f in self.files:\n",
    "            f.flush()"
   ]
  },
  {
   "cell_type": "code",
   "execution_count": 5,
   "id": "8d4ea536",
   "metadata": {
    "ExecuteTime": {
     "end_time": "2023-02-22T00:39:58.313769Z",
     "start_time": "2023-02-22T00:39:57.751271Z"
    }
   },
   "outputs": [
    {
     "name": "stdout",
     "output_type": "stream",
     "text": [
      "\n",
      " Input error detected at !\n",
      " -m ipykernel_launcher -f C:\\Users\\alexb\\AppData\\Roaming\\jupyter\\runtime\\kernel-11a5582c-44c8-42a7-b475-3fcbe49b6fce.json\n",
      "                          !\n",
      "\n",
      " PSS(R)E Xplore Version 35\n",
      " Copyright (c) 1976-2023\n",
      " Siemens Industry, Inc.,\n",
      " Power Technologies International                            (PTI)\n",
      " This program is a confidential  unpublished  work  created  and  first\n",
      " licensed in 1976.  It is a trade secret which is the property of  PTI.\n",
      " All use,  disclosure,  and/or reproduction not specifically authorized\n",
      " by  PTI  is prohibited.   This  program is protected  under  copyright\n",
      " laws  of  non-U.S.  countries  and  by  application  of  international\n",
      " treaties.  All  Rights  Reserved  Under  The  Copyright  Laws.\n",
      "\n",
      "\n",
      "           SIEMENS POWER TECHNOLOGIES INTERNATIONAL\n",
      "\n",
      "    50 BUS POWER SYSTEM SIMULATOR--PSS(R)E Xplore-35.5.2\n",
      "\n",
      "             INITIATED ON TUE, FEB 21 2023  16:39\n"
     ]
    },
    {
     "data": {
      "text/plain": [
       "0"
      ]
     },
     "execution_count": 5,
     "metadata": {},
     "output_type": "execute_result"
    }
   ],
   "source": [
    "psspy.psseinit(50)"
   ]
  },
  {
   "cell_type": "code",
   "execution_count": 15,
   "id": "04b35c29",
   "metadata": {
    "ExecuteTime": {
     "end_time": "2023-02-22T00:41:35.026724Z",
     "start_time": "2023-02-22T00:41:34.948600Z"
    }
   },
   "outputs": [
    {
     "name": "stdout",
     "output_type": "stream",
     "text": [
      "\n",
      " Reading IC, SBASE, REV, XFRRAT, NXFRAT, BASFRQ...\n",
      "\n",
      " Converting RAW data from PSS(R)E 33 to PSS(R)E 34 format\n",
      " Starting processing of Case identification data records\n",
      " Finished processing of 3 records for Case identification data\n",
      " Starting processing of Bus data records\n",
      " Finished processing of 24 records for Bus data\n",
      " Starting processing of Load data records\n",
      " Finished processing of 16 records for Load data\n",
      " Starting processing of Fixed shunt data records\n",
      " Finished processing of 0 records for Fixed shunt data\n",
      " Starting processing of Generator data records\n",
      " Finished processing of 11 records for Generator data\n",
      " Starting processing of Branch data records\n",
      " Finished processing of 32 records for Branch data\n",
      " Finished processing of 0 records for System switching device data\n",
      " Starting processing of Transformer data records\n",
      " Finished processing of 24 records for 6 Transformer data\n",
      " Starting processing of Area data records\n",
      " Finished processing of 1 records for Area data\n",
      " Starting processing of Two-terminal dc data records\n",
      " Finished processing of 0 records for 0 Two-terminal dc data\n",
      " Starting processing of VSC dc line data records\n",
      " Finished processing of 0 records for 0 VSC dc line data\n",
      " Starting processing of Impedance correction data records\n",
      " Finished processing of 0 records for Impedance correction data\n",
      " Starting processing of Multi-terminal dc data records\n",
      " Finished processing of 0 records for 0 Multi-terminal dc data\n",
      " Starting processing of Multi-section line data records\n",
      " Finished processing of 0 records for Multi-section line data\n",
      " Starting processing of Zone data records\n",
      " Finished processing of 1 records for Zone data\n",
      " Starting processing of Inter-area transfer data records\n",
      " Finished processing of 0 records for Inter-area transfer data\n",
      " Starting processing of Owner data records\n",
      " Finished processing of 1 records for Owner data\n",
      " Starting processing of FACTS device data records\n",
      " Finished processing of 0 records for FACTS device data\n",
      " Starting processing of Switched shunt data records\n",
      " Finished processing of 2 records for Switched shunt data\n",
      " Starting processing of GNE data records\n",
      " Finished processing of 0 records for 0 GNE data\n",
      " Starting processing of Induction machine data records\n",
      " Finished processing of 0 records for Induction machine data\n",
      "\n",
      " Converting RAW data from PSS(R)E 34 to PSS(R)E 35 format\n",
      " Starting processing of Case identification data records\n",
      " Finished processing of 3 records for Case identification data\n",
      " Starting processing of System-wide data records\n",
      " Finished processing of 0 records for System-wide data\n",
      " Starting processing of Bus data records\n",
      " Finished processing of 24 records for Bus data\n",
      " Starting processing of Load data records\n",
      " Finished processing of 16 records for Load data\n",
      " Starting processing of Fixed shunt data records\n",
      " Finished processing of 0 records for Fixed shunt data\n",
      " Starting processing of Generator data records\n",
      " Finished processing of 11 records for Generator data\n",
      " Starting processing of Branch data records\n",
      " Finished processing of 32 records for Branch data\n",
      " Starting processing of System switching device data records\n",
      " Finished processing of 0 records for System switching device data\n",
      " Starting processing of Transformer data records\n",
      " Finished processing of 24 records for 6 Transformer data\n",
      " Starting processing of Area data records\n",
      " Finished processing of 1 records for Area data\n",
      " Starting processing of Two-terminal dc data records\n",
      " Finished processing of 0 records for 0 Two-terminal dc data\n",
      " Starting processing of VSC dc line data records\n",
      " Finished processing of 0 records for 0 VSC dc line data\n",
      " Starting processing of Impedance correction data records\n",
      " Finished processing of 0 records for Impedance correction data\n",
      " Starting processing of Multi-terminal dc data records\n",
      " Finished processing of 0 records for 0 Multi-terminal dc data\n",
      " Starting processing of Multi-section line data records\n",
      " Finished processing of 0 records for Multi-section line data\n",
      " Starting processing of Zone data records\n",
      " Finished processing of 1 records for Zone data\n",
      " Starting processing of Inter-area transfer data records\n",
      " Finished processing of 0 records for Inter-area transfer data\n",
      " Starting processing of Owner data records\n",
      " Finished processing of 1 records for Owner data\n",
      " Starting processing of FACTS device data records\n",
      " Finished processing of 0 records for FACTS device data\n",
      " Starting processing of Switched shunt data records\n",
      " Finished processing of 2 records for Switched shunt data\n",
      " Starting processing of GNE data records\n",
      " Finished processing of 0 records for 0 GNE data\n",
      " Starting processing of Induction machine data records\n",
      " Finished processing of 0 records for Induction machine data\n",
      " Starting processing of Substation data records\n",
      " Finished processing of 0 records for Substation data\n",
      "\n",
      " Reading current format RAW data file\n",
      "\n",
      " Reading IC, SBASE, REV, XFRRAT, NXFRAT, BASFRQ...\n",
      "\n",
      " Reading two line case heading...\n",
      "\n",
      " Reading system-wide data...\n",
      "\n",
      " Reading bus data...\n",
      "\n",
      " Reading load data...\n",
      "\n",
      " Reading fixed bus shunt data...\n",
      "\n",
      " Reading generator data...\n",
      "\n",
      " Reading non-transformer branch data...\n",
      "\n",
      " Messages for circuit \"1\" from 7 [7           138.00] to 8 [8           230.00]:   (000510)\n",
      "  Warn: Non-transformer branch connects buses with different base voltages   (000526)\n",
      "\n",
      " Messages for circuit \"1\" from 8 [8           230.00] to 9 [9           138.00]:   (000510)\n",
      "  Warn: Non-transformer branch connects buses with different base voltages   (000526)\n",
      "\n",
      " Messages for circuit \"1\" from 8 [8           230.00] to 10 [10          138.00]:   (000510)\n",
      "  Warn: Non-transformer branch connects buses with different base voltages   (000526)\n",
      "\n",
      " Reading system switching device data...\n",
      "\n",
      " Reading transformer data...\n",
      "\n",
      " Messages for two-winding transformer circuit \"1\" from 24 [24          230.00] to 3 [3           138.00]:   (005243)\n",
      "  Warn: Winding 2 bus base voltage (138.000) and nominal voltage (230.000) differ by more than 20(005263)\n",
      "\n",
      " Messages for two-winding transformer circuit \"1\" from 5 [5           138.00] to 10 [10          138.00]:   (005243)\n",
      "  Warn: Winding 1 bus base voltage (138.000) and nominal voltage (230.000) differ by more than 20(005263)\n",
      "  Warn: Winding 2 bus base voltage (138.000) and nominal voltage (230.000) differ by more than 20(005263)\n",
      "  Warn: Magnetizing susceptance MAG2 (.254000E-01) is positive   (005293)\n",
      "\n",
      " Messages for two-winding transformer circuit \"1\" from 11 [11          230.00] to 9 [9           138.00]:   (005243)\n",
      "  Warn: Winding 2 bus base voltage (138.000) and nominal voltage (230.000) differ by more than 20(005263)\n",
      "\n",
      " Messages for two-winding transformer circuit \"1\" from 9 [9           138.00] to 12 [12          230.00]:   (005243)\n",
      "  Warn: Winding 1 bus base voltage (138.000) and nominal voltage (230.000) differ by more than 20(005263)\n",
      "\n",
      " Messages for two-winding transformer circuit \"1\" from 11 [11          230.00] to 10 [10          138.00]:   (005243)\n",
      "  Warn: Winding 2 bus base voltage (138.000) and nominal voltage (230.000) differ by more than 20(005263)\n",
      "\n",
      " Messages for two-winding transformer circuit \"1\" from 12 [12          230.00] to 10 [10          138.00]:   (005243)\n",
      "  Warn: Winding 2 bus base voltage (138.000) and nominal voltage (230.000) differ by more than 20(005263)\n",
      "\n",
      " Reading area interchange data...\n",
      "\n",
      " Reading two-terminal dc line data...\n",
      "\n",
      " Reading VSC dc line data...\n",
      "\n",
      " Reading transformer impedance correction data...\n",
      "\n",
      " Reading multi-terminal dc line data...\n",
      "\n",
      " Reading multi-section line data...\n",
      "\n",
      " Reading zone name data...\n",
      "\n",
      " Reading inter-area transfer data...\n",
      "\n",
      " Reading owner name data...\n",
      "\n",
      " Reading FACTS device data...\n",
      "\n",
      " Reading switched shunt data...\n",
      "\n",
      " Messages for switched shunt \"1\" at bus 1 [1           138.00]:   (004764)\n",
      "  Warn: Remote regulated bus is specified for a type 3 bus   (004802)\n",
      "\n",
      " Reading GNE device data...\n",
      "\n",
      " Reading induction machine data...\n",
      "\n",
      " Reading substation data...\n"
     ]
    },
    {
     "data": {
      "text/plain": [
       "0"
      ]
     },
     "execution_count": 15,
     "metadata": {},
     "output_type": "execute_result"
    }
   ],
   "source": [
    "rts96_24 = r\"../input_files/RTS96DYN/IEEE_24_bus.raw\"\n",
    "psspy.read(1, rts96_24)"
   ]
  },
  {
   "cell_type": "code",
   "execution_count": 17,
   "id": "956c993c",
   "metadata": {
    "ExecuteTime": {
     "end_time": "2023-02-22T00:41:52.318043Z",
     "start_time": "2023-02-22T00:41:52.286783Z"
    }
   },
   "outputs": [
    {
     "name": "stdout",
     "output_type": "stream",
     "text": [
      "(2, None)\n",
      "\n",
      " Power flow data changed for machine \"1\" at bus 2 [2           138.00]:\n",
      " X--ORIGINAL--X  X-NEW VALUE--X  DATA ITEM\n",
      "    67.0000         22.0000      PG\n",
      "0\n"
     ]
    }
   ],
   "source": [
    "print(psspy.amachreal(1,1,['PGEN']))\n",
    "print(psspy.machine_chng_3(2, \"1\", [], [22]))"
   ]
  },
  {
   "cell_type": "code",
   "execution_count": 19,
   "id": "d414f298",
   "metadata": {
    "ExecuteTime": {
     "end_time": "2023-02-22T00:41:59.146117Z",
     "start_time": "2023-02-22T00:41:58.927387Z"
    }
   },
   "outputs": [
    {
     "name": "stdout",
     "output_type": "stream",
     "text": [
      "\n",
      " Ordering network...\n",
      " Diagonals = 23   Off-diagonals = 45   Maximum size = 62\n",
      "\n",
      " The working case has a largest mismatch of 45.02 MW at bus 2 [2           138.00]\n",
      "                              PTI INTERACTIVE POWER SYSTEM SIMULATOR--PSS(R)E Xplore TUE, FEB 21 2023  16:41\n",
      "\n",
      "\n",
      "\n",
      " X----------- FROM BUS -----------X   BASE CHANGE    GEN.    LOAD X------------ TO BUS ------------X         BASE CASE   RATE10    CHANGE CASE   DELTA\n",
      "   BUS#-SCT X-- NAME --X BASKV AREA  ANGLE  ANGLE     MW      MW    BUS#-SCT X-- NAME --X BASKV AREA CKT     MW      MVA     MW      MW\n",
      "      1     1           138.00    1    0.0           80.8     0.0 --------------------------------------------------------------------------------\n",
      "                                                                       2     2           138.00    1  1    101.7\n",
      "                                                                       3     3           138.00    1  1    -50.0\n",
      "                                                                       5     5           138.00    1  1     29.1\n",
      "      2     2           138.00    1   -0.1           22.0    97.0 --------------------------------------------------------------------------------\n",
      "                                                                       1     1           138.00    1  1   -101.5\n",
      "                                                                       4     4           138.00    1  1     22.7\n",
      "                                                                       6     6           138.00    1  1      3.9\n",
      "      3     3           138.00    1    6.0            0.0    90.0 --------------------------------------------------------------------------------\n",
      "                                                                       1     1           138.00    1  1     55.5\n",
      "                                                                       9     9           138.00    1  1     64.3\n",
      "                                                                      24     24          230.00    1  1   -209.9\n",
      "      4     4           138.00    1   -1.6            0.0    74.0 --------------------------------------------------------------------------------\n",
      "                                                                       2     2           138.00    1  1    -20.3\n",
      "                                                                       9     9           138.00    1  1    -53.7\n",
      "      5     5           138.00    1   -1.3            0.0    71.0 --------------------------------------------------------------------------------\n",
      "                                                                       1     1           138.00    1  1    -27.5\n",
      "                                                                      10     10          138.00    1  1    -43.5\n",
      "      6     6           138.00    1   -0.4            0.0    68.0 --------------------------------------------------------------------------------\n",
      "                                                                       2     2           138.00    1  1     -2.8\n",
      "                                                                      10     10          138.00    1  1    -65.2\n",
      "      7     7           138.00    1   -2.5           64.0    62.0 --------------------------------------------------------------------------------\n",
      "                                                                       8     8           230.00    1  1      2.0\n",
      "      8     8           230.00    1   -2.6            0.0    85.0 --------------------------------------------------------------------------------\n",
      "                                                                       7     7           138.00    1  1     -2.0\n",
      "                                                                       9     9           138.00    1  1    -46.3\n",
      "                                                                      10     10          138.00    1  1    -36.7\n",
      "      9     9           138.00    1    1.8            0.0   175.0 --------------------------------------------------------------------------------\n",
      "                                                                       3     3           138.00    1  1    -62.7\n",
      "                                                                       4     4           138.00    1  1     55.7\n",
      "                                                                       8     8           230.00    1  1     47.5\n",
      "                                                                      11     11          230.00    1  1   -114.0\n",
      "                                                                      12     12          230.00    1  1   -101.5\n",
      "     10     10          138.00    1    0.9            0.0   100.0 --------------------------------------------------------------------------------\n",
      "                                                                       5     5           138.00    1  1     45.1\n",
      "                                                                       6     6           138.00    1  1     69.9\n",
      "                                                                       8     8           230.00    1  1     38.2\n",
      "                                                                      11     11          230.00    1  1   -132.8\n",
      "                                                                      12     12          230.00    1  1   -120.4\n",
      "     11     11          230.00    1    7.2            0.0     0.0 --------------------------------------------------------------------------------\n",
      "                                                                       9     9           138.00    1  1    114.4\n",
      "                                                                      10     10          138.00    1  1    133.5\n",
      "                                                                      13     13          230.00    1  1    -70.7\n",
      "                                                                      14     14          230.00    1  1   -177.2\n",
      "     12     12          230.00    1    6.6            0.0     0.0 --------------------------------------------------------------------------------\n",
      "                                                                       9     9           138.00    1  1    101.9\n",
      "                                                                      10     10          138.00    1  1    120.9\n",
      "                                                                      13     13          230.00    1  1    -92.5\n",
      "                                                                      23     23          230.00    1  1   -130.3\n",
      "     13     13          230.00    1    9.2          200.0   130.0 --------------------------------------------------------------------------------\n",
      "                                                                      11     11          230.00    1  1     71.2\n",
      "                                                                      12     12          230.00    1  1     93.2\n",
      "                                                                      23     23          230.00    1  1    -94.4\n",
      "     14     14          230.00    1   11.5            0.0    92.0 --------------------------------------------------------------------------------\n",
      "                                                                      11     11          230.00    1  1    179.5\n",
      "                                                                      16     16          230.00    1  1   -271.5\n",
      "     15     15          230.00    1   22.4          274.0   158.0 --------------------------------------------------------------------------------\n",
      "                                                                      16     16          230.00    1  1     49.5\n",
      "                                                                      21     21          230.00    1  1    -74.4\n",
      "                                                                      21     21          230.00    1  2    -74.4\n",
      "                                                                      24     24          230.00    1  1    215.4\n",
      "     16     16          230.00    1   17.5          245.0   100.0 --------------------------------------------------------------------------------\n",
      "                                                                      14     14          230.00    1  1    276.4\n"
     ]
    },
    {
     "name": "stdout",
     "output_type": "stream",
     "text": [
      "                                                                      15     15          230.00    1  1    -49.5\n",
      "                                                                      17     17          230.00    1  1   -267.6\n",
      "                                                                      19     19          230.00    1  1    185.6\n",
      "     17     17          230.00    1   21.5            0.0     0.0 --------------------------------------------------------------------------------\n",
      "                                                                      16     16          230.00    1  1    270.9\n",
      "                                                                      18     18          230.00    1  1   -183.2\n",
      "                                                                      22     22          230.00    1  1    -87.7\n",
      "     18     18          230.00    1   23.0          144.0   162.0 --------------------------------------------------------------------------------\n",
      "                                                                      17     17          230.00    1  1    183.9\n",
      "                                                                      21     21          230.00    1  1   -101.0\n",
      "                                                                      21     21          230.00    1  2   -101.0\n",
      "     19     19          230.00    1   15.1            0.0    90.0 --------------------------------------------------------------------------------\n",
      "                                                                      16     16          230.00    1  1   -184.3\n",
      "                                                                      20     20          230.00    1  1     47.2\n",
      "                                                                      20     20          230.00    1  2     47.2\n",
      "     20     20          230.00    1   14.0            0.0    65.0 --------------------------------------------------------------------------------\n",
      "                                                                      19     19          230.00    1  1    -47.0\n",
      "                                                                      19     19          230.00    1  2    -47.0\n",
      "                                                                      23     23          230.00    1  1     14.5\n",
      "                                                                      23     23          230.00    1  2     14.5\n",
      "     21     21          230.00    1   24.5          294.0     0.0 --------------------------------------------------------------------------------\n",
      "                                                                      15     15          230.00    1  1     75.0\n",
      "                                                                      15     15          230.00    1  2     75.0\n",
      "                                                                      18     18          230.00    1  1    101.4\n",
      "                                                                      18     18          230.00    1  2    101.4\n",
      "                                                                      22     22          230.00    1  1    -58.7\n",
      "     22     22          230.00    1   26.8          150.0     0.0 --------------------------------------------------------------------------------\n",
      "                                                                      17     17          230.00    1  1     89.7\n",
      "                                                                      21     21          230.00    1  1     60.3\n",
      "     23     23          230.00    1   13.8          200.0     0.0 --------------------------------------------------------------------------------\n",
      "                                                                      12     12          230.00    1  1    133.2\n",
      "                                                                      13     13          230.00    1  1     95.8\n",
      "                                                                      20     20          230.00    1  1    -14.5\n",
      "                                                                      20     20          230.00    1  2    -14.5\n",
      "     24     24          230.00    1   16.1            0.0     0.0 --------------------------------------------------------------------------------\n",
      "                                                                       3     3           138.00    1  1    211.3\n",
      "                                                                      15     15          230.00    1  1   -211.3\n",
      "\n",
      " Output completed\n",
      "\n",
      " Original ac voltages are retained\n",
      "DC DCLF\n",
      "+-------+-------------------------------+---------------+----------------+------------------+-------------+-------------+-------------------------------+-------------+----------------+------------------+-----------------+----------------+--------------------+-------------------+--------------+\n",
      "|  Row  |  From Bus                     |  From Area    |  Base Angle    |  Change Angle    |  Gen MW     |  Load MW    |  To Bus                       |  To Area    |  Circuit ID    |  Base Case MW    |  Base Case |  Rating MVA    |  Change Case MW    |  Change Case |  Delta MW    |\n",
      "+-------+-------------------------------+---------------+----------------+------------------+-------------+-------------+-------------------------------+-------------+----------------+------------------+-----------------+----------------+--------------------+-------------------+--------------+\n",
      "|    1  |  1     1           138.00     |            1  |        0.0000  |          0.0000  |    80.8412  |     0.0000  |  2     2           138.00     |          1  |  1             |        101.7117  |         0.0000  |        0.0000  |            0.0000  |           0.0000  |      0.0000  |\n",
      "|    2  |  1     1           138.00     |            1  |        0.0000  |          0.0000  |    80.8412  |     0.0000  |  3     3           138.00     |          1  |  1             |        -49.9750  |         0.0000  |        0.0000  |            0.0000  |           0.0000  |      0.0000  |\n",
      "|    3  |  1     1           138.00     |            1  |        0.0000  |          0.0000  |    80.8412  |     0.0000  |  5     5           138.00     |          1  |  1             |         29.1045  |         0.0000  |        0.0000  |            0.0000  |           0.0000  |      0.0000  |\n",
      "|    4  |  2     2           138.00     |            1  |       -0.0716  |         -0.0716  |    22.0000  |    97.0000  |  1     1           138.00     |          1  |  1             |       -101.5460  |         0.0000  |        0.0000  |            0.0000  |           0.0000  |      0.0000  |\n",
      "|    5  |  2     2           138.00     |            1  |       -0.0716  |         -0.0716  |    22.0000  |    97.0000  |  4     4           138.00     |          1  |  1             |         22.6711  |         0.0000  |        0.0000  |            0.0000  |           0.0000  |      0.0000  |\n",
      "|    6  |  2     2           138.00     |            1  |       -0.0716  |         -0.0716  |    22.0000  |    97.0000  |  6     6           138.00     |          1  |  1             |          3.8748  |         0.0000  |        0.0000  |            0.0000  |           0.0000  |      0.0000  |\n",
      "|    7  |  3     3           138.00     |            1  |        6.0457  |          6.0457  |     0.0000  |    90.0000  |  1     1           138.00     |          1  |  1             |         55.5424  |         0.0000  |        0.0000  |            0.0000  |           0.0000  |      0.0000  |\n",
      "|    8  |  3     3           138.00     |            1  |        6.0457  |          6.0457  |     0.0000  |    90.0000  |  9     9           138.00     |          1  |  1             |         64.3434  |         0.0000  |        0.0000  |            0.0000  |           0.0000  |      0.0000  |\n",
      "|    9  |  3     3           138.00     |            1  |        6.0457  |          6.0457  |     0.0000  |    90.0000  |  24     24          230.00    |          1  |  1             |       -209.8858  |         0.0000  |        0.0000  |            0.0000  |           0.0000  |      0.0000  |\n",
      "|   10  |  4     4           138.00     |            1  |       -1.5514  |         -1.5514  |     0.0000  |    74.0000  |  2     2           138.00     |          1  |  1             |        -20.2891  |         0.0000  |        0.0000  |            0.0000  |           0.0000  |      0.0000  |\n"
     ]
    },
    {
     "name": "stdout",
     "output_type": "stream",
     "text": [
      "|   11  |  4     4           138.00     |            1  |       -1.5514  |         -1.5514  |     0.0000  |    74.0000  |  9     9           138.00     |          1  |  1             |        -53.7109  |         0.0000  |        0.0000  |            0.0000  |           0.0000  |      0.0000  |\n",
      "|   12  |  5     5           138.00     |            1  |       -1.3400  |         -1.3400  |     0.0000  |    71.0000  |  1     1           138.00     |          1  |  1             |        -27.5474  |         0.0000  |        0.0000  |            0.0000  |           0.0000  |      0.0000  |\n",
      "|   13  |  5     5           138.00     |            1  |       -1.3400  |         -1.3400  |     0.0000  |    71.0000  |  10     10          138.00    |          1  |  1             |        -43.4526  |         0.0000  |        0.0000  |            0.0000  |           0.0000  |      0.0000  |\n",
      "|   14  |  6     6           138.00     |            1  |       -0.3842  |         -0.3842  |     0.0000  |    68.0000  |  2     2           138.00     |          1  |  1             |         -2.8419  |         0.0000  |        0.0000  |            0.0000  |           0.0000  |      0.0000  |\n",
      "|   15  |  6     6           138.00     |            1  |       -0.3842  |         -0.3842  |     0.0000  |    68.0000  |  10     10          138.00    |          1  |  1             |        -65.1581  |         0.0000  |        0.0000  |            0.0000  |           0.0000  |      0.0000  |\n",
      "|   16  |  7     7           138.00     |            1  |       -2.5395  |         -2.5395  |    64.0000  |    62.0000  |  8     8           230.00     |          1  |  1             |          2.0000  |         0.0000  |        0.0000  |            0.0000  |           0.0000  |      0.0000  |\n",
      "|   17  |  8     8           230.00     |            1  |       -2.6080  |         -2.6080  |     0.0000  |    85.0000  |  7     7           138.00     |          1  |  1             |         -1.9597  |         0.0000  |        0.0000  |            0.0000  |           0.0000  |      0.0000  |\n",
      "|   18  |  8     8           230.00     |            1  |       -2.6080  |         -2.6080  |     0.0000  |    85.0000  |  9     9           138.00     |          1  |  1             |        -46.3153  |         0.0000  |        0.0000  |            0.0000  |           0.0000  |      0.0000  |\n",
      "|   19  |  8     8           230.00     |            1  |       -2.6080  |         -2.6080  |     0.0000  |    85.0000  |  10     10          138.00    |          1  |  1             |        -36.7251  |         0.0000  |        0.0000  |            0.0000  |           0.0000  |      0.0000  |\n",
      "|   20  |  9     9           138.00     |            1  |        1.7657  |          1.7657  |     0.0000  |   175.0000  |  3     3           138.00     |          1  |  1             |        -62.6619  |         0.0000  |        0.0000  |            0.0000  |           0.0000  |      0.0000  |\n",
      "|   21  |  9     9           138.00     |            1  |        1.7657  |          1.7657  |     0.0000  |   175.0000  |  4     4           138.00     |          1  |  1             |         55.7334  |         0.0000  |        0.0000  |            0.0000  |           0.0000  |      0.0000  |\n",
      "|   22  |  9     9           138.00     |            1  |        1.7657  |          1.7657  |     0.0000  |   175.0000  |  8     8           230.00     |          1  |  1             |         47.4680  |         0.0000  |        0.0000  |            0.0000  |           0.0000  |      0.0000  |\n",
      "|   23  |  9     9           138.00     |            1  |        1.7657  |          1.7657  |     0.0000  |   175.0000  |  11     11          230.00    |          1  |  1             |       -114.0050  |         0.0000  |        0.0000  |            0.0000  |           0.0000  |      0.0000  |\n",
      "|   24  |  9     9           138.00     |            1  |        1.7657  |          1.7657  |     0.0000  |   175.0000  |  12     12          230.00    |          1  |  1             |       -101.5345  |         0.0000  |        0.0000  |            0.0000  |           0.0000  |      0.0000  |\n",
      "|   25  |  10     10          138.00    |            1  |        0.8601  |          0.8601  |     0.0000  |   100.0000  |  5     5           138.00     |          1  |  1             |         45.0933  |         0.0000  |        0.0000  |            0.0000  |           0.0000  |      0.0000  |\n",
      "|   26  |  10     10          138.00    |            1  |        0.8601  |          0.8601  |     0.0000  |   100.0000  |  6     6           138.00     |          1  |  1             |         69.8828  |         0.0000  |        0.0000  |            0.0000  |           0.0000  |      0.0000  |\n",
      "|   27  |  10     10          138.00    |            1  |        0.8601  |          0.8601  |     0.0000  |   100.0000  |  8     8           230.00     |          1  |  1             |         38.2431  |         0.0000  |        0.0000  |            0.0000  |           0.0000  |      0.0000  |\n",
      "|   28  |  10     10          138.00    |            1  |        0.8601  |          0.8601  |     0.0000  |   100.0000  |  11     11          230.00    |          1  |  1             |       -132.8449  |         0.0000  |        0.0000  |            0.0000  |           0.0000  |      0.0000  |\n",
      "|   29  |  10     10          138.00    |            1  |        0.8601  |          0.8601  |     0.0000  |   100.0000  |  12     12          230.00    |          1  |  1             |       -120.3744  |         0.0000  |        0.0000  |            0.0000  |           0.0000  |      0.0000  |\n",
      "|   30  |  11     11          230.00    |            1  |        7.2461  |          7.2461  |     0.0000  |     0.0000  |  9     9           138.00     |          1  |  1             |        114.4105  |         0.0000  |        0.0000  |            0.0000  |           0.0000  |      0.0000  |\n",
      "|   31  |  11     11          230.00    |            1  |        7.2461  |          7.2461  |     0.0000  |     0.0000  |  10     10          138.00    |          1  |  1             |        133.4945  |         0.0000  |        0.0000  |            0.0000  |           0.0000  |      0.0000  |\n",
      "|   32  |  11     11          230.00    |            1  |        7.2461  |          7.2461  |     0.0000  |     0.0000  |  13     13          230.00    |          1  |  1             |        -70.7336  |         0.0000  |        0.0000  |            0.0000  |           0.0000  |      0.0000  |\n",
      "|   33  |  11     11          230.00    |            1  |        7.2461  |          7.2461  |     0.0000  |     0.0000  |  14     14          230.00    |          1  |  1             |       -177.1715  |         0.0000  |        0.0000  |            0.0000  |           0.0000  |      0.0000  |\n",
      "|   34  |  12     12          230.00    |            1  |        6.6466  |          6.6466  |     0.0000  |     0.0000  |  9     9           138.00     |          1  |  1             |        101.8565  |         0.0000  |        0.0000  |            0.0000  |           0.0000  |      0.0000  |\n",
      "|   35  |  12     12          230.00    |            1  |        6.6466  |          6.6466  |     0.0000  |     0.0000  |  10     10          138.00    |          1  |  1             |        120.9093  |         0.0000  |        0.0000  |            0.0000  |           0.0000  |      0.0000  |\n",
      "|   36  |  12     12          230.00    |            1  |        6.6466  |          6.6466  |     0.0000  |     0.0000  |  13     13          230.00    |          1  |  1             |        -92.5061  |         0.0000  |        0.0000  |            0.0000  |           0.0000  |      0.0000  |\n",
      "|   37  |  12     12          230.00    |            1  |        6.6466  |          6.6466  |     0.0000  |     0.0000  |  23     23          230.00    |          1  |  1             |       -130.2597  |         0.0000  |        0.0000  |            0.0000  |           0.0000  |      0.0000  |\n",
      "|   38  |  13     13          230.00    |            1  |        9.1695  |          9.1695  |   200.0000  |   130.0000  |  11     11          230.00    |          1  |  1             |         71.1625  |         0.0000  |        0.0000  |            0.0000  |           0.0000  |      0.0000  |\n"
     ]
    },
    {
     "name": "stdout",
     "output_type": "stream",
     "text": [
      "|   39  |  13     13          230.00    |            1  |        9.1695  |          9.1695  |   200.0000  |   130.0000  |  12     12          230.00    |          1  |  1             |         93.2372  |         0.0000  |        0.0000  |            0.0000  |           0.0000  |      0.0000  |\n",
      "|   40  |  13     13          230.00    |            1  |        9.1695  |          9.1695  |   200.0000  |   130.0000  |  23     23          230.00    |          1  |  1             |        -94.3996  |         0.0000  |        0.0000  |            0.0000  |           0.0000  |      0.0000  |\n",
      "|   41  |  14     14          230.00    |            1  |       11.4812  |         11.4812  |     0.0000  |    92.0000  |  11     11          230.00    |          1  |  1             |        179.4829  |         0.0000  |        0.0000  |            0.0000  |           0.0000  |      0.0000  |\n",
      "|   42  |  14     14          230.00    |            1  |       11.4812  |         11.4812  |     0.0000  |    92.0000  |  16     16          230.00    |          1  |  1             |       -271.4830  |         0.0000  |        0.0000  |            0.0000  |           0.0000  |      0.0000  |\n",
      "|   43  |  15     15          230.00    |            1  |       22.4158  |         22.4158  |   274.0000  |   158.0000  |  16     16          230.00    |          1  |  1             |         49.5190  |         0.0000  |        0.0000  |            0.0000  |           0.0000  |      0.0000  |\n",
      "|   44  |  15     15          230.00    |            1  |       22.4158  |         22.4158  |   274.0000  |   158.0000  |  21     21          230.00    |          1  |  1             |        -74.4389  |         0.0000  |        0.0000  |            0.0000  |           0.0000  |      0.0000  |\n",
      "|   45  |  15     15          230.00    |            1  |       22.4158  |         22.4158  |   274.0000  |   158.0000  |  21     21          230.00    |          1  |  2             |        -74.4389  |         0.0000  |        0.0000  |            0.0000  |           0.0000  |      0.0000  |\n",
      "|   46  |  15     15          230.00    |            1  |       22.4158  |         22.4158  |   274.0000  |   158.0000  |  24     24          230.00    |          1  |  1             |        215.3588  |         0.0000  |        0.0000  |            0.0000  |           0.0000  |      0.0000  |\n",
      "|   47  |  16     16          230.00    |            1  |       17.5227  |         17.5227  |   245.0000  |   100.0000  |  14     14          230.00    |          1  |  1             |        276.4216  |         0.0000  |        0.0000  |            0.0000  |           0.0000  |      0.0000  |\n",
      "|   48  |  16     16          230.00    |            1  |       17.5227  |         17.5227  |   245.0000  |   100.0000  |  15     15          230.00    |          1  |  1             |        -49.4532  |         0.0000  |        0.0000  |            0.0000  |           0.0000  |      0.0000  |\n",
      "|   49  |  16     16          230.00    |            1  |       17.5227  |         17.5227  |   245.0000  |   100.0000  |  17     17          230.00    |          1  |  1             |       -267.6102  |         0.0000  |        0.0000  |            0.0000  |           0.0000  |      0.0000  |\n",
      "|   50  |  16     16          230.00    |            1  |       17.5227  |         17.5227  |   245.0000  |   100.0000  |  19     19          230.00    |          1  |  1             |        185.6418  |         0.0000  |        0.0000  |            0.0000  |           0.0000  |      0.0000  |\n",
      "|   51  |  17     17          230.00    |            1  |       21.4939  |         21.4939  |     0.0000  |     0.0000  |  16     16          230.00    |          1  |  1             |        270.8542  |         0.0000  |        0.0000  |            0.0000  |           0.0000  |      0.0000  |\n",
      "|   52  |  17     17          230.00    |            1  |       21.4939  |         21.4939  |     0.0000  |     0.0000  |  18     18          230.00    |          1  |  1             |       -183.1828  |         0.0000  |        0.0000  |            0.0000  |           0.0000  |      0.0000  |\n",
      "|   53  |  17     17          230.00    |            1  |       21.4939  |         21.4939  |     0.0000  |     0.0000  |  22     22          230.00    |          1  |  1             |        -87.6714  |         0.0000  |        0.0000  |            0.0000  |           0.0000  |      0.0000  |\n",
      "|   54  |  18     18          230.00    |            1  |       23.0042  |         23.0042  |   144.0000  |   162.0000  |  17     17          230.00    |          1  |  1             |        183.9059  |         0.0000  |        0.0000  |            0.0000  |           0.0000  |      0.0000  |\n",
      "|   55  |  18     18          230.00    |            1  |       23.0042  |         23.0042  |   144.0000  |   162.0000  |  21     21          230.00    |          1  |  1             |       -100.9531  |         0.0000  |        0.0000  |            0.0000  |           0.0000  |      0.0000  |\n",
      "|   56  |  18     18          230.00    |            1  |       23.0042  |         23.0042  |   144.0000  |   162.0000  |  21     21          230.00    |          1  |  2             |       -100.9531  |         0.0000  |        0.0000  |            0.0000  |           0.0000  |      0.0000  |\n",
      "|   57  |  19     19          230.00    |            1  |       15.0916  |         15.0916  |     0.0000  |    90.0000  |  16     16          230.00    |          1  |  1             |       -184.3203  |         0.0000  |        0.0000  |            0.0000  |           0.0000  |      0.0000  |\n",
      "|   58  |  19     19          230.00    |            1  |       15.0916  |         15.0916  |     0.0000  |    90.0000  |  20     20          230.00    |          1  |  1             |         47.1601  |         0.0000  |        0.0000  |            0.0000  |           0.0000  |      0.0000  |\n",
      "|   59  |  19     19          230.00    |            1  |       15.0916  |         15.0916  |     0.0000  |    90.0000  |  20     20          230.00    |          1  |  2             |         47.1601  |         0.0000  |        0.0000  |            0.0000  |           0.0000  |      0.0000  |\n",
      "|   60  |  20     20          230.00    |            1  |       14.0240  |         14.0240  |     0.0000  |    65.0000  |  19     19          230.00    |          1  |  1             |        -47.0070  |         0.0000  |        0.0000  |            0.0000  |           0.0000  |      0.0000  |\n",
      "|   61  |  20     20          230.00    |            1  |       14.0240  |         14.0240  |     0.0000  |    65.0000  |  19     19          230.00    |          1  |  2             |        -47.0070  |         0.0000  |        0.0000  |            0.0000  |           0.0000  |      0.0000  |\n",
      "|   62  |  20     20          230.00    |            1  |       14.0240  |         14.0240  |     0.0000  |    65.0000  |  23     23          230.00    |          1  |  1             |         14.5070  |         0.0000  |        0.0000  |            0.0000  |           0.0000  |      0.0000  |\n",
      "|   63  |  20     20          230.00    |            1  |       14.0240  |         14.0240  |     0.0000  |    65.0000  |  23     23          230.00    |          1  |  2             |         14.5070  |         0.0000  |        0.0000  |            0.0000  |           0.0000  |      0.0000  |\n",
      "|   64  |  21     21          230.00    |            1  |       24.5052  |         24.5052  |   294.0000  |     0.0000  |  15     15          230.00    |          1  |  1             |         74.9731  |         0.0000  |        0.0000  |            0.0000  |           0.0000  |      0.0000  |\n",
      "|   65  |  21     21          230.00    |            1  |       24.5052  |         24.5052  |   294.0000  |     0.0000  |  15     15          230.00    |          1  |  2             |         74.9731  |         0.0000  |        0.0000  |            0.0000  |           0.0000  |      0.0000  |\n",
      "|   66  |  21     21          230.00    |            1  |       24.5052  |         24.5052  |   294.0000  |     0.0000  |  18     18          230.00    |          1  |  1             |        101.3774  |         0.0000  |        0.0000  |            0.0000  |           0.0000  |      0.0000  |\n"
     ]
    },
    {
     "name": "stdout",
     "output_type": "stream",
     "text": [
      "|   67  |  21     21          230.00    |            1  |       24.5052  |         24.5052  |   294.0000  |     0.0000  |  18     18          230.00    |          1  |  2             |        101.3774  |         0.0000  |        0.0000  |            0.0000  |           0.0000  |      0.0000  |\n",
      "|   68  |  21     21          230.00    |            1  |       24.5052  |         24.5052  |   294.0000  |     0.0000  |  22     22          230.00    |          1  |  1             |        -58.7005  |         0.0000  |        0.0000  |            0.0000  |           0.0000  |      0.0000  |\n",
      "|   69  |  22     22          230.00    |            1  |       26.7818  |         26.7818  |   150.0000  |     0.0000  |  17     17          230.00    |          1  |  1             |         89.7327  |         0.0000  |        0.0000  |            0.0000  |           0.0000  |      0.0000  |\n",
      "|   70  |  22     22          230.00    |            1  |       26.7818  |         26.7818  |   150.0000  |     0.0000  |  21     21          230.00    |          1  |  1             |         60.2673  |         0.0000  |        0.0000  |            0.0000  |           0.0000  |      0.0000  |\n",
      "|   71  |  23     23          230.00    |            1  |       13.8443  |         13.8443  |   200.0000  |     0.0000  |  12     12          230.00    |          1  |  1             |        133.2469  |         0.0000  |        0.0000  |            0.0000  |           0.0000  |      0.0000  |\n",
      "|   72  |  23     23          230.00    |            1  |       13.8443  |         13.8443  |   200.0000  |     0.0000  |  13     13          230.00    |          1  |  1             |         95.7509  |         0.0000  |        0.0000  |            0.0000  |           0.0000  |      0.0000  |\n",
      "|   73  |  23     23          230.00    |            1  |       13.8443  |         13.8443  |   200.0000  |     0.0000  |  20     20          230.00    |          1  |  1             |        -14.4988  |         0.0000  |        0.0000  |            0.0000  |           0.0000  |      0.0000  |\n",
      "|   74  |  23     23          230.00    |            1  |       13.8443  |         13.8443  |   200.0000  |     0.0000  |  20     20          230.00    |          1  |  2             |        -14.4988  |         0.0000  |        0.0000  |            0.0000  |           0.0000  |      0.0000  |\n",
      "|   75  |  24     24          230.00    |            1  |       16.1352  |         16.1352  |     0.0000  |     0.0000  |  3     3           138.00     |          1  |  1             |        211.3313  |         0.0000  |        0.0000  |            0.0000  |           0.0000  |      0.0000  |\n",
      "|   76  |  24     24          230.00    |            1  |       16.1352  |         16.1352  |     0.0000  |     0.0000  |  15     15          230.00    |          1  |  1             |       -211.3311  |         0.0000  |        0.0000  |            0.0000  |           0.0000  |      0.0000  |\n",
      "+-------+-------------------------------+---------------+----------------+------------------+-------------+-------------+-------------------------------+-------------+----------------+------------------+-----------------+----------------+--------------------+-------------------+--------------+\n"
     ]
    }
   ],
   "source": [
    "status_array = [1,0,10,0,1,1]\n",
    "brnch_array = [0,0,0]\n",
    "ckt = \"1\"\n",
    "\n",
    "f = open('out.txt', 'w')\n",
    "original = sys.stdout\n",
    "sys.stdout = Tee(sys.stdout, f)\n",
    "psspy.dclf_2(1, 1, status_array, brnch_array, ckt)\n",
    "sys.stdout = original"
   ]
  },
  {
   "cell_type": "code",
   "execution_count": 20,
   "id": "ad801437",
   "metadata": {
    "ExecuteTime": {
     "end_time": "2023-02-22T00:42:12.755488Z",
     "start_time": "2023-02-22T00:42:12.724205Z"
    }
   },
   "outputs": [
    {
     "data": {
      "text/plain": [
       "(0,\n",
       " [[35.8489990234375,\n",
       "   22.0,\n",
       "   64.0,\n",
       "   200.0,\n",
       "   0.0,\n",
       "   274.0,\n",
       "   245.0,\n",
       "   144.0,\n",
       "   294.0,\n",
       "   150.0,\n",
       "   200.0]])"
      ]
     },
     "execution_count": 20,
     "metadata": {},
     "output_type": "execute_result"
    }
   ],
   "source": [
    "psspy.amachreal(-1,4,['PGEN'])"
   ]
  },
  {
   "cell_type": "code",
   "execution_count": 12,
   "id": "aed51123",
   "metadata": {
    "ExecuteTime": {
     "end_time": "2023-02-22T00:40:49.417493Z",
     "start_time": "2023-02-22T00:40:49.386269Z"
    }
   },
   "outputs": [],
   "source": [
    "file1 = open(\"./out.txt\", 'r')\n",
    "Lines = file1.readlines()"
   ]
  },
  {
   "cell_type": "code",
   "execution_count": 13,
   "id": "3723b608",
   "metadata": {
    "ExecuteTime": {
     "end_time": "2023-02-22T00:40:49.667492Z",
     "start_time": "2023-02-22T00:40:49.636299Z"
    }
   },
   "outputs": [
    {
     "data": {
      "text/plain": [
       "196"
      ]
     },
     "execution_count": 13,
     "metadata": {},
     "output_type": "execute_result"
    }
   ],
   "source": [
    "len(Lines)"
   ]
  },
  {
   "cell_type": "code",
   "execution_count": 14,
   "id": "267c3475",
   "metadata": {
    "ExecuteTime": {
     "end_time": "2023-02-22T00:40:50.167487Z",
     "start_time": "2023-02-22T00:40:50.151865Z"
    }
   },
   "outputs": [
    {
     "name": "stdout",
     "output_type": "stream",
     "text": [
      "Line11:       1     1           138.00    1    0.0           80.8     0.0 --------------------------------------------------------------------------------\n",
      "\n"
     ]
    },
    {
     "ename": "NameError",
     "evalue": "name 're' is not defined",
     "output_type": "error",
     "traceback": [
      "\u001b[1;31m---------------------------------------------------------------------------\u001b[0m",
      "\u001b[1;31mNameError\u001b[0m                                 Traceback (most recent call last)",
      "\u001b[1;32m~\\AppData\\Local\\Temp\\ipykernel_1204\\1070432002.py\u001b[0m in \u001b[0;36m<module>\u001b[1;34m\u001b[0m\n\u001b[0;32m      4\u001b[0m     \u001b[0mprint\u001b[0m\u001b[1;33m(\u001b[0m\u001b[1;34m\"Line{}: {}\"\u001b[0m\u001b[1;33m.\u001b[0m\u001b[0mformat\u001b[0m\u001b[1;33m(\u001b[0m\u001b[0mcount\u001b[0m\u001b[1;33m,\u001b[0m \u001b[0mLines\u001b[0m\u001b[1;33m[\u001b[0m\u001b[0mcount\u001b[0m\u001b[1;33m]\u001b[0m\u001b[1;33m)\u001b[0m\u001b[1;33m)\u001b[0m\u001b[1;33m\u001b[0m\u001b[1;33m\u001b[0m\u001b[0m\n\u001b[0;32m      5\u001b[0m     \u001b[0mtemp\u001b[0m \u001b[1;33m=\u001b[0m \u001b[0mLines\u001b[0m\u001b[1;33m[\u001b[0m\u001b[0mcount\u001b[0m\u001b[1;33m]\u001b[0m\u001b[1;33m\u001b[0m\u001b[1;33m\u001b[0m\u001b[0m\n\u001b[1;32m----> 6\u001b[1;33m     \u001b[0mnums\u001b[0m \u001b[1;33m=\u001b[0m \u001b[0mre\u001b[0m\u001b[1;33m.\u001b[0m\u001b[0mfindall\u001b[0m\u001b[1;33m(\u001b[0m\u001b[1;34mr\"[-+]?(?:\\d*\\.*\\d+)\"\u001b[0m\u001b[1;33m,\u001b[0m \u001b[0mtemp\u001b[0m\u001b[1;33m)\u001b[0m\u001b[1;33m\u001b[0m\u001b[1;33m\u001b[0m\u001b[0m\n\u001b[0m\u001b[0;32m      7\u001b[0m     \u001b[0mprint\u001b[0m\u001b[1;33m(\u001b[0m\u001b[0mnums\u001b[0m\u001b[1;33m)\u001b[0m\u001b[1;33m\u001b[0m\u001b[1;33m\u001b[0m\u001b[0m\n\u001b[0;32m      8\u001b[0m     \u001b[1;31m#print(str(nums[0]), \" | \", str(nums[5]))\u001b[0m\u001b[1;33m\u001b[0m\u001b[1;33m\u001b[0m\u001b[1;33m\u001b[0m\u001b[0m\n",
      "\u001b[1;31mNameError\u001b[0m: name 're' is not defined"
     ]
    }
   ],
   "source": [
    "count = 11\n",
    "temp_dict = {}\n",
    "for i in range(len(Lines)):\n",
    "    print(\"Line{}: {}\".format(count, Lines[count]))\n",
    "    temp = Lines[count]\n",
    "    nums = re.findall(r\"[-+]?(?:\\d*\\.*\\d+)\", temp)\n",
    "    print(nums)\n",
    "    #print(str(nums[0]), \" | \", str(nums[5]))\n",
    "    count += 1\n",
    "    "
   ]
  },
  {
   "cell_type": "code",
   "execution_count": null,
   "id": "76e05c57",
   "metadata": {},
   "outputs": [],
   "source": [
    "type(temp)"
   ]
  },
  {
   "cell_type": "code",
   "execution_count": null,
   "id": "0531eb41",
   "metadata": {},
   "outputs": [],
   "source": [
    "import re"
   ]
  },
  {
   "cell_type": "code",
   "execution_count": null,
   "id": "6e01e227",
   "metadata": {},
   "outputs": [],
   "source": [
    "Lines[10]"
   ]
  },
  {
   "cell_type": "code",
   "execution_count": null,
   "id": "e1ac1963",
   "metadata": {},
   "outputs": [],
   "source": [
    "temp"
   ]
  },
  {
   "cell_type": "code",
   "execution_count": null,
   "id": "67ec018e",
   "metadata": {},
   "outputs": [],
   "source": [
    "nums = re.findall(r\"[-+]?(?:\\d*\\.*\\d+)\", temp)\n",
    "bus = nums[0]\n",
    "new_pgen = nums[5]\n",
    "print(new_pgen)"
   ]
  },
  {
   "cell_type": "code",
   "execution_count": null,
   "id": "9863f6f7",
   "metadata": {},
   "outputs": [],
   "source": [
    "[int(s) for s in temp.split() if s.isdigit()]"
   ]
  },
  {
   "cell_type": "code",
   "execution_count": null,
   "id": "1ec2fe0a",
   "metadata": {},
   "outputs": [],
   "source": []
  }
 ],
 "metadata": {
  "kernelspec": {
   "display_name": "PSSe",
   "language": "python",
   "name": "python3"
  },
  "language_info": {
   "codemirror_mode": {
    "name": "ipython",
    "version": 3
   },
   "file_extension": ".py",
   "mimetype": "text/x-python",
   "name": "python",
   "nbconvert_exporter": "python",
   "pygments_lexer": "ipython3",
   "version": "3.7.16"
  },
  "toc": {
   "base_numbering": 1,
   "nav_menu": {},
   "number_sections": true,
   "sideBar": false,
   "skip_h1_title": false,
   "title_cell": "Table of Contents",
   "title_sidebar": "Contents",
   "toc_cell": true,
   "toc_position": {},
   "toc_section_display": true,
   "toc_window_display": false
  },
  "vscode": {
   "interpreter": {
    "hash": "7ce6e4aaef75d1fe29a4937b4ecc6470724bedf2a046c41ecf515549d3ee8199"
   }
  }
 },
 "nbformat": 4,
 "nbformat_minor": 5
}
