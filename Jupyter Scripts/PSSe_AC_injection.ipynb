{
 "cells": [
  {
   "cell_type": "markdown",
   "id": "3fc0fa92",
   "metadata": {},
   "source": [
    "UN-FINISHED"
   ]
  },
  {
   "cell_type": "code",
   "execution_count": 4,
   "id": "4a13ee1d",
   "metadata": {},
   "outputs": [],
   "source": [
    "import sys\n",
    "sys.path.append('../wec-grid-code') # \n",
    "import pandas as pd\n",
    "import wec_grid_class as wg\n",
    "import matplotlib.pyplot as plt\n",
    "import numpy as np\n",
    "import sqlite3\n",
    "plt.rcParams[\"figure.figsize\"] = (15,10)"
   ]
  },
  {
   "cell_type": "code",
   "execution_count": 5,
   "id": "82e3b63e",
   "metadata": {},
   "outputs": [],
   "source": [
    "# Read in case file \n",
    "case14 = r\"../input_files/case14.raw\""
   ]
  },
  {
   "cell_type": "code",
   "execution_count": 7,
   "id": "5136ef6d",
   "metadata": {},
   "outputs": [
    {
     "ename": "TypeError",
     "evalue": "__init__() missing 1 required positional argument: 'wec_bus'",
     "output_type": "error",
     "traceback": [
      "\u001b[1;31m---------------------------------------------------------------------------\u001b[0m",
      "\u001b[1;31mTypeError\u001b[0m                                 Traceback (most recent call last)",
      "\u001b[1;32m~\\AppData\\Local\\Temp\\ipykernel_11420\\648206232.py\u001b[0m in \u001b[0;36m<module>\u001b[1;34m\u001b[0m\n\u001b[0;32m      1\u001b[0m \u001b[1;31m# initalize WEC GRID Object\u001b[0m\u001b[1;33m\u001b[0m\u001b[1;33m\u001b[0m\u001b[1;33m\u001b[0m\u001b[0m\n\u001b[1;32m----> 2\u001b[1;33m \u001b[0mpf\u001b[0m \u001b[1;33m=\u001b[0m \u001b[0mwg\u001b[0m\u001b[1;33m.\u001b[0m\u001b[0mWec_grid\u001b[0m\u001b[1;33m(\u001b[0m\u001b[0mcase14\u001b[0m\u001b[1;33m,\u001b[0m\u001b[1;36m3\u001b[0m\u001b[1;33m)\u001b[0m\u001b[1;33m\u001b[0m\u001b[1;33m\u001b[0m\u001b[0m\n\u001b[0m",
      "\u001b[1;31mTypeError\u001b[0m: __init__() missing 1 required positional argument: 'wec_bus'"
     ]
    }
   ],
   "source": [
    "# initalize WEC GRID Object\n",
    "pf = wg.Wec_grid(case14,3)"
   ]
  },
  {
   "cell_type": "code",
   "execution_count": 6,
   "id": "acb250e4",
   "metadata": {},
   "outputs": [
    {
     "name": "stdout",
     "output_type": "stream",
     "text": [
      "       Bus  BASE     PU     ANGLED  Type           P          Q\n",
      "0    BUS 1   0.0  1.060   0.000000     3  232.346268 -16.759069\n",
      "1    BUS 2   0.0  1.045  -4.980000     2   18.393555  29.763643\n",
      "2    BUS 3   0.0  1.010 -12.719999     2  -94.275166   5.310905\n",
      "3    BUS 4   0.0  1.019 -10.330000     1  -47.719318   8.118187\n",
      "4    BUS 5   0.0  1.020  -8.780000     1   -7.731865  -2.865371\n",
      "5    BUS 6   0.0  1.070 -14.220000     2  -11.000880   5.264521\n",
      "6    BUS 7   0.0  1.062 -13.370001     1   -0.245777   0.234765\n",
      "7    BUS 8   0.0  1.090 -13.360000     2    0.114721  17.326178\n",
      "8    BUS 9   0.0  1.056 -14.939999     1  -29.305561   3.840285\n",
      "9   BUS 10   0.0  1.051 -15.100001     1   -9.090860  -5.871971\n",
      "10  BUS 11   0.0  1.057 -14.790001     1   -3.439518  -1.734084\n",
      "11  BUS 12   0.0  1.055 -15.070000     1   -6.009285  -1.676000\n",
      "12  BUS 13   0.0  1.050 -15.159998     1  -13.853797  -6.227429\n",
      "13  BUS 14   0.0  1.036 -16.040001     1  -14.785610  -4.652751\n"
     ]
    }
   ],
   "source": [
    "# Run first Power Flow and get bus values\n",
    "pf.run_powerflow\n",
    "pf.get_values(['BASE', 'PU', 'ANGLED', 'P', 'Q'])\n",
    "print(pf.dataframe)"
   ]
  },
  {
   "cell_type": "code",
   "execution_count": 5,
   "id": "cec6e732",
   "metadata": {},
   "outputs": [
    {
     "data": {
      "text/html": [
       "<div>\n",
       "<style scoped>\n",
       "    .dataframe tbody tr th:only-of-type {\n",
       "        vertical-align: middle;\n",
       "    }\n",
       "\n",
       "    .dataframe tbody tr th {\n",
       "        vertical-align: top;\n",
       "    }\n",
       "\n",
       "    .dataframe thead th {\n",
       "        text-align: right;\n",
       "    }\n",
       "</style>\n",
       "<table border=\"1\" class=\"dataframe\">\n",
       "  <thead>\n",
       "    <tr style=\"text-align: right;\">\n",
       "      <th></th>\n",
       "      <th>Time</th>\n",
       "      <th>ibus</th>\n",
       "      <th>P</th>\n",
       "    </tr>\n",
       "  </thead>\n",
       "  <tbody>\n",
       "    <tr>\n",
       "      <th>0</th>\n",
       "      <td>300.0</td>\n",
       "      <td>1.0</td>\n",
       "      <td>0.020204</td>\n",
       "    </tr>\n",
       "    <tr>\n",
       "      <th>1</th>\n",
       "      <td>600.0</td>\n",
       "      <td>1.0</td>\n",
       "      <td>0.013897</td>\n",
       "    </tr>\n",
       "    <tr>\n",
       "      <th>2</th>\n",
       "      <td>900.0</td>\n",
       "      <td>1.0</td>\n",
       "      <td>0.018099</td>\n",
       "    </tr>\n",
       "    <tr>\n",
       "      <th>3</th>\n",
       "      <td>1200.0</td>\n",
       "      <td>1.0</td>\n",
       "      <td>0.013920</td>\n",
       "    </tr>\n",
       "    <tr>\n",
       "      <th>4</th>\n",
       "      <td>1500.0</td>\n",
       "      <td>1.0</td>\n",
       "      <td>0.017861</td>\n",
       "    </tr>\n",
       "    <tr>\n",
       "      <th>5</th>\n",
       "      <td>1800.0</td>\n",
       "      <td>1.0</td>\n",
       "      <td>0.018624</td>\n",
       "    </tr>\n",
       "    <tr>\n",
       "      <th>6</th>\n",
       "      <td>2100.0</td>\n",
       "      <td>1.0</td>\n",
       "      <td>0.021036</td>\n",
       "    </tr>\n",
       "    <tr>\n",
       "      <th>7</th>\n",
       "      <td>2400.0</td>\n",
       "      <td>1.0</td>\n",
       "      <td>0.020560</td>\n",
       "    </tr>\n",
       "    <tr>\n",
       "      <th>8</th>\n",
       "      <td>2700.0</td>\n",
       "      <td>1.0</td>\n",
       "      <td>0.018935</td>\n",
       "    </tr>\n",
       "    <tr>\n",
       "      <th>9</th>\n",
       "      <td>3000.0</td>\n",
       "      <td>1.0</td>\n",
       "      <td>0.017833</td>\n",
       "    </tr>\n",
       "    <tr>\n",
       "      <th>10</th>\n",
       "      <td>3300.0</td>\n",
       "      <td>1.0</td>\n",
       "      <td>0.014170</td>\n",
       "    </tr>\n",
       "    <tr>\n",
       "      <th>11</th>\n",
       "      <td>3600.0</td>\n",
       "      <td>1.0</td>\n",
       "      <td>0.015578</td>\n",
       "    </tr>\n",
       "  </tbody>\n",
       "</table>\n",
       "</div>"
      ],
      "text/plain": [
       "      Time  ibus         P\n",
       "0    300.0   1.0  0.020204\n",
       "1    600.0   1.0  0.013897\n",
       "2    900.0   1.0  0.018099\n",
       "3   1200.0   1.0  0.013920\n",
       "4   1500.0   1.0  0.017861\n",
       "5   1800.0   1.0  0.018624\n",
       "6   2100.0   1.0  0.021036\n",
       "7   2400.0   1.0  0.020560\n",
       "8   2700.0   1.0  0.018935\n",
       "9   3000.0   1.0  0.017833\n",
       "10  3300.0   1.0  0.014170\n",
       "11  3600.0   1.0  0.015578"
      ]
     },
     "execution_count": 5,
     "metadata": {},
     "output_type": "execute_result"
    }
   ],
   "source": [
    "# connect to Database and open in df\n",
    "con = sqlite3.connect('../input_files/WEC_database.db')\n",
    "cur = con.cursor()\n",
    "wec_gen_values = pd.read_sql_query(\"SELECT * from WecOutput\", con)\n",
    "wec_gen_values"
   ]
  },
  {
   "cell_type": "code",
   "execution_count": 15,
   "id": "5a9f646b",
   "metadata": {},
   "outputs": [],
   "source": [
    "def add_load_to(bus, load):\n",
    "  \"\"\"Create a load (can be negative) and add to bus.\n",
    "     Returns load dictionary with new id ('id') and bus number ('i') set\n",
    "  \"\"\"\n",
    "  newid = available_load_id(bus)\n",
    "  psspy.load_data_3(\n",
    "             bus,\n",
    "             id=newid,\n",
    "             realar1 =load.get('pl', 0),    # set PL [default 0]\n",
    "             realar2 =load.get('ql', 0)    # set QL [default 0] \n",
    "  )\n",
    "  load['id'] = newid\n",
    "  load['i'] = bus\n",
    "  return load\n",
    "\n",
    "def available_load_id(bus):\n",
    "  \"\"\"Returns a random available load id for a bus.\"\"\"\n",
    "  taken_ids = load_ids_for_bus(bus)\n",
    "  while True:\n",
    "    newid = uuid.uuid4().hex[:2]\n",
    "    if newid not in taken_ids: \n",
    "      break\n",
    "  return newid\n",
    "\n",
    "\n",
    "def load_ids_for_bus(target_bus):\n",
    "  \"\"\"returns existing load ids in a list for a bus.\"\"\"\n",
    "  buses, ierr = psspy.aloadint(\n",
    "             -1,                # all buses\n",
    "             flag=4,            # for all loads\n",
    "             string=[\"NUMBER\"]) # get bus number\n",
    "  ids, ierr = psspy.aloadchar(\n",
    "             -1,                # all buses\n",
    "             flag=4,            # for all loads\n",
    "             string=[\"ID\"])     # get load id\n",
    "\n",
    "  # converts [[101], [102]] and [['1'], ['2']] to [[101, '1'], [102, '2']]\n",
    "  allbuses = zip(zip(*buses)[0], zip(*ids)[0])\n",
    "  return [id for (bus, id) in allbuses if target_bus == bus]"
   ]
  },
  {
   "cell_type": "code",
   "execution_count": 25,
   "id": "43567ce1",
   "metadata": {},
   "outputs": [
    {
     "data": {
      "text/plain": [
       "[[2, 3, 4, 5, 6, 9, 10, 11, 12, 13, 14]]"
      ]
     },
     "execution_count": 25,
     "metadata": {},
     "output_type": "execute_result"
    }
   ],
   "source": [
    "ierr, buses = psspy.aloadint(\n",
    "             -1,                # all buses\n",
    "             flag=4,            # for all loads\n",
    "             string=\"NUMBER\")\n",
    "buses"
   ]
  },
  {
   "cell_type": "code",
   "execution_count": 28,
   "id": "a0e225fc",
   "metadata": {},
   "outputs": [
    {
     "data": {
      "text/plain": [
       "[['1 ', '1 ', '1 ', '1 ', '1 ', '1 ', '1 ', '1 ', '1 ', '1 ', '1 ']]"
      ]
     },
     "execution_count": 28,
     "metadata": {},
     "output_type": "execute_result"
    }
   ],
   "source": [
    "ierr, ids = psspy.aloadchar(\n",
    "         -1,                # all buses\n",
    "         flag=4,            # for all loads\n",
    "         string=[\"ID\"])     # get load id\n",
    "ids"
   ]
  },
  {
   "cell_type": "code",
   "execution_count": 32,
   "id": "4ab7b952",
   "metadata": {},
   "outputs": [
    {
     "name": "stdout",
     "output_type": "stream",
     "text": [
      "\n",
      " No power flow data changed for load \"1\" at bus 3 [BUS 3             ]\n"
     ]
    },
    {
     "data": {
      "text/plain": [
       "0"
      ]
     },
     "execution_count": 32,
     "metadata": {},
     "output_type": "execute_result"
    }
   ],
   "source": [
    "psspy.load_data_6(3, '1 ', realar2=20) # not sure what this does tbh"
   ]
  },
  {
   "cell_type": "code",
   "execution_count": null,
   "id": "1443df28",
   "metadata": {},
   "outputs": [],
   "source": []
  },
  {
   "cell_type": "code",
   "execution_count": 2,
   "id": "34af7809",
   "metadata": {},
   "outputs": [
    {
     "name": "stdout",
     "output_type": "stream",
     "text": [
      " Volume in drive C is Windows\n",
      " Volume Serial Number is 3E6E-346B\n",
      "\n",
      " Directory of C:\\Users\\barajale\\Desktop\\research_code\\tem\\WEC-GRID\\Jupyter Scripts\n",
      "\n",
      "08/17/2022  11:23 AM    <DIR>          .\n",
      "08/17/2022  11:23 AM    <DIR>          ..\n",
      "08/17/2022  11:23 AM    <DIR>          .ipynb_checkpoints\n",
      "08/17/2022  11:23 AM            19,888 PSSe_AC_injection.ipynb\n",
      "08/17/2022  11:23 AM           259,565 PSSe_DC_injection.ipynb\n",
      "               2 File(s)        279,453 bytes\n",
      "               3 Dir(s)  366,023,786,496 bytes free\n"
     ]
    }
   ],
   "source": [
    "pd.read_csv"
   ]
  },
  {
   "cell_type": "code",
   "execution_count": null,
   "id": "3056a2e7",
   "metadata": {},
   "outputs": [],
   "source": []
  },
  {
   "cell_type": "code",
   "execution_count": null,
   "id": "15258104",
   "metadata": {},
   "outputs": [],
   "source": []
  }
 ],
 "metadata": {
  "kernelspec": {
   "display_name": "Python 3 (ipykernel)",
   "language": "python",
   "name": "python3"
  },
  "language_info": {
   "codemirror_mode": {
    "name": "ipython",
    "version": 3
   },
   "file_extension": ".py",
   "mimetype": "text/x-python",
   "name": "python",
   "nbconvert_exporter": "python",
   "pygments_lexer": "ipython3",
   "version": "3.7.13"
  }
 },
 "nbformat": 4,
 "nbformat_minor": 5
}
