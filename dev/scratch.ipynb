{
 "cells": [],
 "metadata": {
  "kernelspec": {
   "display_name": "PSSe",
   "language": "python",
   "name": "python3"
  },
  "language_info": {
   "codemirror_mode": {
    "name": "ipython",
    "version": 3
   },
   "file_extension": ".py",
   "mimetype": "text/x-python",
   "name": "python",
   "nbconvert_exporter": "python",
   "pygments_lexer": "ipython3",
   "version": "3.7.16"
  },
  "toc": {
   "base_numbering": 1,
   "nav_menu": {},
   "number_sections": true,
   "sideBar": false,
   "skip_h1_title": false,
   "title_cell": "Table of Contents",
   "title_sidebar": "Contents",
   "toc_cell": false,
   "toc_position": {},
   "toc_section_display": true,
   "toc_window_display": false
  },
  "vscode": {
   "interpreter": {
    "hash": "7ce6e4aaef75d1fe29a4937b4ecc6470724bedf2a046c41ecf515549d3ee8199"
   }
  }
 },
 "nbformat": 4,
 "nbformat_minor": 5
}
