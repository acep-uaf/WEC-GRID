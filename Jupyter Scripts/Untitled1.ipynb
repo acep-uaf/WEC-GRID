{
 "cells": [
  {
   "cell_type": "code",
   "execution_count": 27,
   "id": "9ca012e5",
   "metadata": {},
   "outputs": [],
   "source": [
    "from pathlib import Path\n",
    "import os"
   ]
  },
  {
   "cell_type": "code",
   "execution_count": null,
   "id": "d6b72ca2",
   "metadata": {},
   "outputs": [],
   "source": [
    "import sys\n",
    "sys.path.append('../wec-grid-code/path_config.py')"
   ]
  },
  {
   "cell_type": "code",
   "execution_count": null,
   "id": "4f368eea",
   "metadata": {},
   "outputs": [],
   "source": [
    "pss_path"
   ]
  },
  {
   "cell_type": "code",
   "execution_count": 36,
   "id": "0f1ad152",
   "metadata": {},
   "outputs": [
    {
     "data": {
      "text/plain": [
       "'C:\\\\Users\\\\alexb\\\\research\\\\WEC-GRID'"
      ]
     },
     "execution_count": 36,
     "metadata": {},
     "output_type": "execute_result"
    }
   ],
   "source": [
    "pathlib_cwd = Path.cwd()\n",
    "str(pathlib_cwd.parent)"
   ]
  },
  {
   "cell_type": "code",
   "execution_count": 31,
   "id": "428c3c68",
   "metadata": {},
   "outputs": [
    {
     "data": {
      "text/plain": [
       "'C:\\\\Users\\\\alexb\\\\research\\\\WEC-GRID\\\\Jupyter Scripts'"
      ]
     },
     "execution_count": 31,
     "metadata": {},
     "output_type": "execute_result"
    }
   ],
   "source": [
    "os_cwd = os.getcwd()\n",
    "os_cwd`"
   ]
  },
  {
   "cell_type": "code",
   "execution_count": null,
   "id": "464413fc",
   "metadata": {},
   "outputs": [],
   "source": [
    "print(type(pathlib_cwd))\n",
    "print(type(os_cwd))"
   ]
  },
  {
   "cell_type": "code",
   "execution_count": null,
   "id": "d1fa2932",
   "metadata": {},
   "outputs": [],
   "source": [
    "pss_path = \"\" \n",
    "wec_sim_path = \"\"\n",
    "wec_model_path = \"\""
   ]
  },
  {
   "cell_type": "code",
   "execution_count": null,
   "id": "48a97697",
   "metadata": {},
   "outputs": [],
   "source": []
  },
  {
   "cell_type": "code",
   "execution_count": null,
   "id": "39e57382",
   "metadata": {},
   "outputs": [],
   "source": [
    "ls ../"
   ]
  },
  {
   "cell_type": "code",
   "execution_count": null,
   "id": "4bf98044",
   "metadata": {},
   "outputs": [],
   "source": [
    "import os \n",
    "  \n",
    "# Get the list of all files and directories \n",
    "# in the root directory \n",
    "path = \"/\"\n",
    "dir_list = os.listdir(path) \n",
    "  \n",
    "print(\"Files and directories in '\", path, \"' :\") \n",
    "  \n",
    "# print the list \n",
    "print(dir_list) "
   ]
  },
  {
   "cell_type": "code",
   "execution_count": null,
   "id": "7fba0e7d",
   "metadata": {},
   "outputs": [],
   "source": [
    "import shutil\n",
    "print(shutil.which('MATLAB'))\n",
    "print(shutil.which('python'))\n",
    "print(shutil.which('vim'))"
   ]
  },
  {
   "cell_type": "code",
   "execution_count": null,
   "id": "d6da852e",
   "metadata": {},
   "outputs": [],
   "source": [
    "os.environ"
   ]
  },
  {
   "cell_type": "code",
   "execution_count": null,
   "id": "4dda0f49",
   "metadata": {},
   "outputs": [],
   "source": [
    "import pathlib\n",
    "print(pathlib.Path().absolute())"
   ]
  },
  {
   "cell_type": "code",
   "execution_count": null,
   "id": "d55a81e4",
   "metadata": {},
   "outputs": [],
   "source": [
    "import os\n",
    "directory = '35.5'\n",
    " \n",
    "# if the file is present in current directory,\n",
    "# then no need to specify the whole location\n",
    "#print(\"Path of the file..\", os.path.abspath(pythonfile))\n",
    " \n",
    "for root, dirs, files in os.walk(r'C:\\Program Files'):\n",
    "    \n",
    "\n",
    "    for name in dirs:\n",
    "        #print(name)\n",
    "       \n",
    "        # As we need to get the provided python file,\n",
    "        # comparing here like this\n",
    "        if name == \"35.3\": \n",
    "            print(os.path.abspath(os.path.join(root, name)))\n",
    "            return"
   ]
  },
  {
   "cell_type": "code",
   "execution_count": null,
   "id": "a5d87033",
   "metadata": {},
   "outputs": [],
   "source": [
    "for name in dirs:\n",
    "    break"
   ]
  },
  {
   "cell_type": "code",
   "execution_count": null,
   "id": "87ce3101",
   "metadata": {},
   "outputs": [],
   "source": [
    "name"
   ]
  },
  {
   "cell_type": "code",
   "execution_count": null,
   "id": "45754cba",
   "metadata": {},
   "outputs": [],
   "source": [
    "from pathlib import Path\n",
    "import os\n",
    "import getpass\n",
    "def find_folder_path(folder, start):\n",
    "    directory = folder\n",
    "    for root, dirs, files in os.walk(start):\n",
    "        for name in dirs:\n",
    "            if name == folder: \n",
    "                return os.path.abspath(os.path.join(root, name))"
   ]
  },
  {
   "cell_type": "code",
   "execution_count": null,
   "id": "bcbab26e",
   "metadata": {},
   "outputs": [],
   "source": [
    "import time\n",
    "st = time.time()\n",
    "psse_path = find_folder_path(\"35.3\", \"C:\\Program Files\")\n",
    "Wec_sim_path = find_folder_path(\"WEC-Sim\", \"C:\\\\Users\\\\\" +  getpass.getuser())\n",
    "Wec_model_path = find_folder_path(\"W2G_RM3\", \"C:\\\\Users\\\\\" +  getpass.getuser())\n",
    "print( time.time() - st)"
   ]
  },
  {
   "cell_type": "code",
   "execution_count": null,
   "id": "f2b3c523",
   "metadata": {},
   "outputs": [],
   "source": [
    "import getpass\n",
    "type(getpass.getuser())"
   ]
  },
  {
   "cell_type": "code",
   "execution_count": null,
   "id": "2d63a03a",
   "metadata": {},
   "outputs": [],
   "source": [
    "\"C:\\\\Users\\\\\" +  getpass.getuser()"
   ]
  },
  {
   "cell_type": "code",
   "execution_count": null,
   "id": "ff0825e6",
   "metadata": {},
   "outputs": [],
   "source": [
    "user = getpass.getuser()\n",
    "user"
   ]
  },
  {
   "cell_type": "code",
   "execution_count": 1,
   "id": "a5af455d",
   "metadata": {},
   "outputs": [],
   "source": [
    "with open('../wec-grid-code/path_config') as f:\n",
    "    lines = f.readlines()"
   ]
  },
  {
   "cell_type": "code",
   "execution_count": 2,
   "id": "e0bddcb9",
   "metadata": {},
   "outputs": [
    {
     "data": {
      "text/plain": [
       "['\"C:\\\\Program Files\\\\PTI\\\\PSSE35\\\\35.3\\\\\"\\n',\n",
       " '\"C:\\\\Users\\\\alexb\\\\research\\\\WEC-Sim\"\\n',\n",
       " '\"C:\\\\Users\\\\alexb\\\\research\\\\WEC-GRID\\\\input_files\\\\W2G_RM3\"']"
      ]
     },
     "execution_count": 2,
     "metadata": {},
     "output_type": "execute_result"
    }
   ],
   "source": [
    "lines"
   ]
  },
  {
   "cell_type": "code",
   "execution_count": 23,
   "id": "60821b12",
   "metadata": {},
   "outputs": [],
   "source": [
    "paths = []\n",
    "with open('../wec-grid-code/path_config.txt', 'r') as fp:\n",
    "    while 1:\n",
    "        line = fp.readline()\n",
    "        if len(line) == 0: #end of file break\n",
    "            break\n",
    "        temp = line.split('\\n')\n",
    "        paths.append(temp[0])\n",
    "\n",
    "psse_path = paths[0]\n",
    "wec_sim_path = paths[1]\n",
    "wec_model_path = paths[2]"
   ]
  },
  {
   "cell_type": "code",
   "execution_count": 25,
   "id": "f6ca86a9",
   "metadata": {},
   "outputs": [
    {
     "data": {
      "text/plain": [
       "'C:\\\\Program Files\\\\PTI\\\\PSSE35\\\\35.3\\\\PSSPY37'"
      ]
     },
     "execution_count": 25,
     "metadata": {},
     "output_type": "execute_result"
    }
   ],
   "source": [
    "sys.path.append(psse_path + \"\\\\PSSPY37\")\n",
    "sys.path.append(psse_path + \"\\\\PSSBIN\")\n",
    "sys.path.append(psse_path + \"\\\\PSSLIB\")\n",
    "sys.path.append(psse_path + \"\\\\EXAMPLE\")\n",
    "sys.path.append(psse_path + \"\\\\PSSPY37\")\n",
    "os.environ['PATH'] = (psse_path + \"\\\\PSSPY37;\" + psse_path + \"\\\\PSSBIN;\" + psse_path + \"\\\\EXAMPLE;\" + os.environ['PATH'])"
   ]
  },
  {
   "cell_type": "code",
   "execution_count": null,
   "id": "e2b9ca31",
   "metadata": {},
   "outputs": [],
   "source": [
    "os.environ['PATH'] = (psse_path + \"\\\\PSSPY37;\" + psse_path + \"\\\\PSSBIN;\" + psse_path + \"\\\\EXAMPLE;\" + os.environ['PATH'])"
   ]
  },
  {
   "cell_type": "code",
   "execution_count": 26,
   "id": "5e1f4373",
   "metadata": {},
   "outputs": [
    {
     "ename": "NameError",
     "evalue": "name 'os' is not defined",
     "output_type": "error",
     "traceback": [
      "\u001b[1;31m---------------------------------------------------------------------------\u001b[0m",
      "\u001b[1;31mNameError\u001b[0m                                 Traceback (most recent call last)",
      "\u001b[1;32m~\\AppData\\Local\\Temp\\ipykernel_9456\\2421242420.py\u001b[0m in \u001b[0;36m<module>\u001b[1;34m\u001b[0m\n\u001b[1;32m----> 1\u001b[1;33m \u001b[0mos\u001b[0m\u001b[1;33m\u001b[0m\u001b[1;33m\u001b[0m\u001b[0m\n\u001b[0m",
      "\u001b[1;31mNameError\u001b[0m: name 'os' is not defined"
     ]
    }
   ],
   "source": [
    "os"
   ]
  },
  {
   "cell_type": "code",
   "execution_count": 30,
   "id": "bc043a11",
   "metadata": {},
   "outputs": [
    {
     "ename": "NameError",
     "evalue": "name '__file__' is not defined",
     "output_type": "error",
     "traceback": [
      "\u001b[1;31m---------------------------------------------------------------------------\u001b[0m",
      "\u001b[1;31mNameError\u001b[0m                                 Traceback (most recent call last)",
      "\u001b[1;32m~\\AppData\\Local\\Temp\\ipykernel_9456\\2166066578.py\u001b[0m in \u001b[0;36m<module>\u001b[1;34m\u001b[0m\n\u001b[1;32m----> 1\u001b[1;33m \u001b[0mprint\u001b[0m\u001b[1;33m(\u001b[0m\u001b[0mPath\u001b[0m\u001b[1;33m(\u001b[0m\u001b[0m__file__\u001b[0m\u001b[1;33m)\u001b[0m\u001b[1;33m.\u001b[0m\u001b[0mresolve\u001b[0m\u001b[1;33m(\u001b[0m\u001b[1;33m)\u001b[0m\u001b[1;33m.\u001b[0m\u001b[0mparent\u001b[0m\u001b[1;33m)\u001b[0m\u001b[1;33m\u001b[0m\u001b[1;33m\u001b[0m\u001b[0m\n\u001b[0m",
      "\u001b[1;31mNameError\u001b[0m: name '__file__' is not defined"
     ]
    }
   ],
   "source": [
    "print(Path(__file__).resolve().parent)"
   ]
  },
  {
   "cell_type": "code",
   "execution_count": 32,
   "id": "01632e2c",
   "metadata": {},
   "outputs": [],
   "source": [
    "import os.path"
   ]
  },
  {
   "cell_type": "code",
   "execution_count": 33,
   "id": "2d1845c1",
   "metadata": {},
   "outputs": [
    {
     "data": {
      "text/plain": [
       "<module 'ntpath' from 'C:\\\\Users\\\\alexb\\\\miniconda3\\\\envs\\\\PSSe\\\\lib\\\\ntpath.py'>"
      ]
     },
     "execution_count": 33,
     "metadata": {},
     "output_type": "execute_result"
    }
   ],
   "source": [
    "os.path"
   ]
  },
  {
   "cell_type": "code",
   "execution_count": null,
   "id": "c2c649ef",
   "metadata": {},
   "outputs": [],
   "source": [
    "|"
   ]
  }
 ],
 "metadata": {
  "kernelspec": {
   "display_name": "Python 3 (ipykernel)",
   "language": "python",
   "name": "python3"
  },
  "language_info": {
   "codemirror_mode": {
    "name": "ipython",
    "version": 3
   },
   "file_extension": ".py",
   "mimetype": "text/x-python",
   "name": "python",
   "nbconvert_exporter": "python",
   "pygments_lexer": "ipython3",
   "version": "3.7.16"
  }
 },
 "nbformat": 4,
 "nbformat_minor": 5
}
